{
  "nbformat": 4,
  "nbformat_minor": 0,
  "metadata": {
    "colab": {
      "name": "Quiz21 Graphical Excellence.ipynb",
      "provenance": [],
      "collapsed_sections": [],
      "authorship_tag": "ABX9TyO0SxvzFfQJFlN1Qbvv0B2G",
      "include_colab_link": true
    },
    "kernelspec": {
      "name": "python3",
      "display_name": "Python 3"
    },
    "language_info": {
      "name": "python"
    }
  },
  "cells": [
    {
      "cell_type": "markdown",
      "metadata": {
        "id": "view-in-github",
        "colab_type": "text"
      },
      "source": [
        "<a href=\"https://colab.research.google.com/github/bbishal12/Quiz0/blob/main/Quiz21_Graphical_Excellence.ipynb\" target=\"_parent\"><img src=\"https://colab.research.google.com/assets/colab-badge.svg\" alt=\"Open In Colab\"/></a>"
      ]
    },
    {
      "cell_type": "markdown",
      "source": [
        "#Data Visualization\n",
        "##Bishal Budhathoki\n",
        "##Quiz 21: Graphical Excellence"
      ],
      "metadata": {
        "id": "8bUryc2vDkEM"
      }
    },
    {
      "cell_type": "markdown",
      "source": [
        "##1. Examine John Snow's map of cholera outbreak in 1854 for 'graphical excellence'. Discuss the highlights of the graphic.\n",
        "##2. Find a modern reference and dicuss the excellence displayed. Include a link and image in your report."
      ],
      "metadata": {
        "id": "LkDJwsaXDoog"
      }
    },
    {
      "cell_type": "markdown",
      "source": [
        ""
      ],
      "metadata": {
        "id": "8WP0bdqIEglm"
      }
    },
    {
      "cell_type": "code",
      "execution_count": null,
      "metadata": {
        "id": "-7h4FD0LDiTZ"
      },
      "outputs": [],
      "source": [
        ""
      ]
    }
  ]
}