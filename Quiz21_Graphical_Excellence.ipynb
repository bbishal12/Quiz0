{
  "nbformat": 4,
  "nbformat_minor": 0,
  "metadata": {
    "colab": {
      "name": "Quiz21 Graphical Excellence.ipynb",
      "provenance": [],
      "collapsed_sections": [],
      "authorship_tag": "ABX9TyO3rAhNONg2L3xEjniB7lKT",
      "include_colab_link": true
    },
    "kernelspec": {
      "name": "python3",
      "display_name": "Python 3"
    },
    "language_info": {
      "name": "python"
    }
  },
  "cells": [
    {
      "cell_type": "markdown",
      "metadata": {
        "id": "view-in-github",
        "colab_type": "text"
      },
      "source": [
        "<a href=\"https://colab.research.google.com/github/bbishal12/Quiz0/blob/main/Quiz21_Graphical_Excellence.ipynb\" target=\"_parent\"><img src=\"https://colab.research.google.com/assets/colab-badge.svg\" alt=\"Open In Colab\"/></a>"
      ]
    },
    {
      "cell_type": "markdown",
      "source": [
        "#Data Visualization\n",
        "##Bishal Budhathoki\n",
        "##Quiz 21: Graphical Excellence"
      ],
      "metadata": {
        "id": "8bUryc2vDkEM"
      }
    },
    {
      "cell_type": "markdown",
      "source": [
        "##1. Examine John Snow's map of cholera outbreak in 1854 for 'graphical excellence'. Discuss the highlights of the graphic.\n",
        "##2. Find a modern reference and dicuss the excellence displayed. Include a link and image in your report."
      ],
      "metadata": {
        "id": "LkDJwsaXDoog"
      }
    },
    {
      "cell_type": "markdown",
      "source": [
        "The given graph is the cholera outbreak On the 7th September 1854. Snow took his findings to local officials and convinced them to take the handle off the pump, making it impossible to draw water from it.The outbreak came to an end, and the pump handle was promptly replaced.\n",
        "\n",
        "Researchers later discovered that the public well from which the pump drew water was dug only a few feet from a cesspit. The cloth nappy of a baby, who had contracted cholera from another source, had been washed into this cesspit and was the point source of the outbreak.\n",
        "\n",
        "\n",
        "![John Map](https://www.pastmedicalhistory.co.uk/wp-content/uploads/2018/01/1024px-Snow-cholera-map-1.jpg)"
      ],
      "metadata": {
        "id": "8WP0bdqIEglm"
      }
    },
    {
      "cell_type": "markdown",
      "source": [
        "For the above graph, I found the reference link as https://www.pastmedicalhistory.co.uk/john-snow-and-the-1854-cholera-outbreak/\n",
        "\n",
        "\n",
        "![John Map](https://blog.rtwilson.com/wp-content/uploads/2012/01/OSColor_Points.png)"
      ],
      "metadata": {
        "id": "ppHZMpzkOI1a"
      }
    },
    {
      "cell_type": "markdown",
      "source": [
        "We can see from the data that it is the route map.If we are not told that the map is a cholera outbreak map, we may not be able to figure out what is going on without spending a lot of time doing so. This map summarizes a lot of information and presents it in a logical and effective manner.On the map, there are street names. Each block symbolizes a home or a neighborhood. The black solid mark inside the block represents the city's population decline.Because there is a large black solid mark on the map, we can safely assume that the cholera outbreak began at *BROAD STREET PUMP*. Every block has a small amount of black. Every block has a black mark, indicating that cholera had spread throughout the city due to the presence of black marks in the majority of the blocks. Because of the large solid mark on the pump, it has the highest fatality rate. There is a black line drawn on the map. Is there a certain amount of deaths in that block? It's possible that this is due to the fact that some have three and others have four. The more red the color, the more severe it was."
      ],
      "metadata": {
        "id": "rzuU65pcOfoA"
      }
    }
  ]
}