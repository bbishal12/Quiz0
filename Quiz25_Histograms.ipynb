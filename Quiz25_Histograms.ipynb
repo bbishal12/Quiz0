{
  "nbformat": 4,
  "nbformat_minor": 0,
  "metadata": {
    "colab": {
      "name": "Quiz25 Histograms.ipynb",
      "provenance": [],
      "collapsed_sections": [],
      "authorship_tag": "ABX9TyP5VIxa9Tgin9Sqj4ATbg6f",
      "include_colab_link": true
    },
    "kernelspec": {
      "name": "python3",
      "display_name": "Python 3"
    },
    "language_info": {
      "name": "python"
    }
  },
  "cells": [
    {
      "cell_type": "markdown",
      "metadata": {
        "id": "view-in-github",
        "colab_type": "text"
      },
      "source": [
        "<a href=\"https://colab.research.google.com/github/bbishal12/Quiz0/blob/main/Quiz25_Histograms.ipynb\" target=\"_parent\"><img src=\"https://colab.research.google.com/assets/colab-badge.svg\" alt=\"Open In Colab\"/></a>"
      ]
    },
    {
      "cell_type": "markdown",
      "source": [
        "#Data Visualization\n",
        "##Bishal Budhathoki\n",
        "##Quiz 25: Histograms"
      ],
      "metadata": {
        "id": "e99tcJTsKFft"
      }
    },
    {
      "cell_type": "markdown",
      "source": [
        "Look at NYC Air B&B, provide a histogram of the price and a histogram of the price broken down by 'neighborhood_group'. Make sure to give titles and labels axises!"
      ],
      "metadata": {
        "id": "-_955rvHKSgg"
      }
    },
    {
      "cell_type": "code",
      "execution_count": null,
      "metadata": {
        "id": "21XBTbT9JzQt"
      },
      "outputs": [],
      "source": [
        ""
      ]
    },
    {
      "cell_type": "markdown",
      "source": [
        ""
      ],
      "metadata": {
        "id": "7IvPiFkDKSI5"
      }
    }
  ]
}