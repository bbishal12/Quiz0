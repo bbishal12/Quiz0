{
  "nbformat": 4,
  "nbformat_minor": 0,
  "metadata": {
    "colab": {
      "name": "Quiz22 Graphical Integrity.ipynb",
      "provenance": [],
      "collapsed_sections": [],
      "authorship_tag": "ABX9TyPqR05VgUO3qxrnM1x5Qx+s",
      "include_colab_link": true
    },
    "kernelspec": {
      "name": "python3",
      "display_name": "Python 3"
    },
    "language_info": {
      "name": "python"
    }
  },
  "cells": [
    {
      "cell_type": "markdown",
      "metadata": {
        "id": "view-in-github",
        "colab_type": "text"
      },
      "source": [
        "<a href=\"https://colab.research.google.com/github/bbishal12/Quiz0/blob/main/Quiz22_Graphical_Integrity.ipynb\" target=\"_parent\"><img src=\"https://colab.research.google.com/assets/colab-badge.svg\" alt=\"Open In Colab\"/></a>"
      ]
    },
    {
      "cell_type": "markdown",
      "source": [
        "#Data Visualization\n",
        "##Bishal Budhathoki\n",
        "##Quiz 22: Graphical Integrity"
      ],
      "metadata": {
        "id": "fgImerkvFduI"
      }
    },
    {
      "cell_type": "markdown",
      "source": [
        "Head over to [Oklahaoma Research Day](https://symposium.foragerone.com/okrd22).  Spend some time looking at three posters that include statistical charts or graphs.  Include links to each.  Discuss the strengths and weaknesses of each.  Do they display excellence or do they lie?"
      ],
      "metadata": {
        "id": "lftzAPn8Fpkh"
      }
    },
    {
      "cell_type": "markdown",
      "source": [
        "[A Comparison of UV Components of LED and UV Illumination](https://symposium.foragerone.com/okrd22/presentations/37645)\n",
        "\n",
        "Traditional lighting was based on either incandescent filaments with their poor efficiency or mercury vapor fluorescent lamps with a somewhat elevated UV component and unnaturally blue spectral output. More recent lighting innovations have included both compact fluorescent (“CF”) lamps which can have a lower color temperature than earlier industrial fluorescent lamps and semiconductor (“LED”) lighting in a variety of color temperatures. However there have been claims that the compact fluorescents can produce potentially unsafe levels of near UV radiation and that semiconductor devices produce potentially unsafe levels of 450nm light. Levels of 400-450nm light are compared from varying devices as a percentage of their total output from 400nm to 800nm. Several commercially available CF lamps are spectroscopically evaluated and compared to both incandescent and semiconductor illumination sources via an Ocean Optics Red Tide UV-VIS spectrometer.\n",
        "\n",
        "![UV](https://storage.googleapis.com/fg1-submissions/35593aa88fb5840427253284b9cb143b.jpg?GoogleAccessId=656367108343-compute%40developer.gserviceaccount.com&Expires=1648103450&Signature=QHmHDCn0hsJLrhnkSrjbmVIYC5fwc001YHUumeDUr9QQ0HZ%2Ftev20QaW9JzPYSwXFrNAHYgo5Tf%2FBT6tK%2Fl1vIX28EHKz%2FPHpcd%2Bs5tupdvFBBzNorucjRfVGGQnokWKnSbXRnnhLZrBySfeXbKXXwQaKMAyeF%2FUSWlvogElhE45KLAGEQg5%2BocMUn0AdN8DRGcbZFdvoVdI%2Fa6%2BmnfBOQLpSbQNnurkCSlJiKXaUXFdLDbdIJuu%2F5n%2FVn0K4cgzKBlZh%2FPS8Mo7iTr5RsCtqUQ4oK1N53tN4tuXYbeL%2FxGeAuCeMu1c4x6767kIp6sRq%2ByrpbU5DhYO5AaN50wzZQ%3D%3D)"
      ],
      "metadata": {
        "id": "qEcS8YNHkdzF"
      }
    },
    {
      "cell_type": "markdown",
      "source": [
        "[A Finite Difference Approach to the Quantum Harmonic Oscillator](https://symposium.foragerone.com/okrd22/presentations/37563)\n",
        "\n",
        "In quantum mechanics the time-independent Schrodinger equation is the differential equation that determines a particles wavefunction. The Schrodinger equation can be discretized and solved using the explicit finite difference method. By discretizing the Schrodinger equation, approximations can be made about what energy and wavefunction are associated with a particle under a specific potential. For this project, the quantum harmonic oscillator potential was chosen. This potential is well-known and has been solved analytically making it a good test of how well this method works. This method can then be applied to real systems in hopes of making accurate predictions about the particles energy and wavefunctions.\n",
        "\n",
        "![A Finite](https://storage.googleapis.com/fg1-submissions/5df9a6f1f8e876d1681567cd2c189848.jpg?GoogleAccessId=656367108343-compute%40developer.gserviceaccount.com&Expires=1648103302&Signature=aYeGIDRzf%2FzdRPF8T7pFIZdlkFBhvvNIGBIjnKrMcnBvbzw1eO%2BRvxg2CZ2z1%2FHXF0PimAN5M3OyxWu3Sv55cxO6Rj5hxH6UtsenKGRUMpg5sPqEvGywlc%2FI5eKpIg90prpVesoZiBZtTkXwgzIaXWZAkGB96%2FlMCZuYunkiEej7Y9oTdo%2BlGyzNlRxE6AM5fWh9M7CtLrn366I5O7Hp7KTNYTp1TX5JfFpJYBFe4lV9r291wmU7rokbr%2BzpUox2mPTMtkzKAInugt%2Fq4oe%2FrwtsIbHaAehVD%2FIf7aA7UQbuV7IFVTPph2WwLRlifnyo8DIUKk96Rwn%2Fxngi8DpCtA%3D%3D)\n"
      ],
      "metadata": {
        "id": "RQRSZux2lf6W"
      }
    },
    {
      "cell_type": "markdown",
      "source": [
        "[Ultrasound Attenuation Spectra for Canola Oil](https://symposium.foragerone.com/okrd22/presentations/36472)\n",
        "\n",
        "Some of my previous research (5,6Williams) has shown that the acoustic attenuation coefficient of liquids and solids can be measured experimentally by using the slope method.  In this method the acoustic attenuation is plotted against the distance sound propagated. Phantom design  by 6Chen and 2Hansen have used various materials in tissue to mimic various disease and trauma in human organs.  Attenuation is used to determine tissue differences.\n",
        "\n",
        "This project continued our research to determine: (1) if the attenuation coefficient in canola oil can be found accurately, (2) if it is repeatable with non-uniform temperatures, and (3) if there is a relationship between the attenuation and the frequency so that the factor n might be found. Accuracy is necessary for the design of future phantoms that consist of different liquids and gels. \n",
        "\n",
        "\n",
        "\n",
        "This research found the attenuation coefficient in pure canola oil for 1, 2, and 4 MHz. The R2 value ranged from .977 to .947. The attenuation coefficient was found to be 0.0204 dB/mmMHz for 1 MHz. From the three attenuation coefficients, a graph was made that related the log of the attenuation coefficient to the frequency. The graph's predictive R2 = .989 and the correlation coefficient could be found for various frequencies. This research suggests that the value n might be found and the attenuation coefficient be extrapolated for a wider frequency range. Next step I hope to build phantoms and have my students learn more life-like imaging with them. \n",
        "\n",
        "\n",
        "![Ultrasound](https://storage.googleapis.com/fg1-submissions/eaaab12bfea11c709c14b89c6a067d75.jpg?GoogleAccessId=656367108343-compute%40developer.gserviceaccount.com&Expires=1648103450&Signature=V8eIcJIM7lB1RafW%2B7OU9qy4bu%2BXJK8MMSF4CqL9Dp%2BDH%2Fwz4TKhNF1G%2Fadh82QwRUGrIwKN8QNMQ9I0Ra%2BL%2F8uCVv%2BwDSiB3%2FOKpwQFzV74kPabbh5l5G%2FxuXQfPuUqybd10aFDs5%2BMV8txBuutbrx%2BE%2FtWJdzqlIMiTEZ5bzOEXF90KNVo40kFNf6%2F9QAL7Bntr7tz4t9TEeyRKBREhj7Jf5k3c1DBPEEZcdy%2ByWn%2F8G6B2BhjR2UYBQPNASY1KTwtmwDuEhPjEIxU%2BCUGDzcd45r4eyTaQGtUbfrsNYZjnMg8Ymq%2FPPJaa8ewqnYvZHj0Kv8cHOVSaubwFfuMhQ%3D%3D)\n"
      ],
      "metadata": {
        "id": "-ByysGvLm9jF"
      }
    },
    {
      "cell_type": "markdown",
      "source": [
        "Therefore, these are the three posters that include statistical charts or graphs and they are discussed the strengths and weaknesses of each."
      ],
      "metadata": {
        "id": "6dZ0yNTPnG58"
      }
    }
  ]
}