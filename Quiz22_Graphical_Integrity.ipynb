{
  "nbformat": 4,
  "nbformat_minor": 0,
  "metadata": {
    "colab": {
      "name": "Quiz22 Graphical Integrity.ipynb",
      "provenance": [],
      "collapsed_sections": [],
      "authorship_tag": "ABX9TyOQV+G21BJEx9Zzy5JFRjFG",
      "include_colab_link": true
    },
    "kernelspec": {
      "name": "python3",
      "display_name": "Python 3"
    },
    "language_info": {
      "name": "python"
    }
  },
  "cells": [
    {
      "cell_type": "markdown",
      "metadata": {
        "id": "view-in-github",
        "colab_type": "text"
      },
      "source": [
        "<a href=\"https://colab.research.google.com/github/bbishal12/Quiz0/blob/main/Quiz22_Graphical_Integrity.ipynb\" target=\"_parent\"><img src=\"https://colab.research.google.com/assets/colab-badge.svg\" alt=\"Open In Colab\"/></a>"
      ]
    },
    {
      "cell_type": "markdown",
      "source": [
        "#Data Visualization\n",
        "##Bishal Budhathoki\n",
        "##Quiz 22: Graphical Integrity"
      ],
      "metadata": {
        "id": "fgImerkvFduI"
      }
    },
    {
      "cell_type": "markdown",
      "source": [
        "Head over to [Oklahaoma Research Day](https://symposium.foragerone.com/okrd22).  Spend some time looking at three posters that include statistical charts or graphs.  Include links to each.  Discuss the strengths and weaknesses of each.  Do they display excellence or do they lie?"
      ],
      "metadata": {
        "id": "lftzAPn8Fpkh"
      }
    },
    {
      "cell_type": "code",
      "execution_count": null,
      "metadata": {
        "id": "A0p44EB2FTwL"
      },
      "outputs": [],
      "source": [
        ""
      ]
    },
    {
      "cell_type": "markdown",
      "source": [
        ""
      ],
      "metadata": {
        "id": "JenzNYSFFrwv"
      }
    }
  ]
}