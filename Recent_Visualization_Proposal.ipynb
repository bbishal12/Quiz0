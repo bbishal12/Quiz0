{
  "nbformat": 4,
  "nbformat_minor": 0,
  "metadata": {
    "colab": {
      "name": "Recent Visualization Proposal.ipynb",
      "provenance": [],
      "collapsed_sections": [],
      "authorship_tag": "ABX9TyO6ZrXXIGCZZniFi7PzNTr+",
      "include_colab_link": true
    },
    "kernelspec": {
      "name": "python3",
      "display_name": "Python 3"
    },
    "language_info": {
      "name": "python"
    }
  },
  "cells": [
    {
      "cell_type": "markdown",
      "metadata": {
        "id": "view-in-github",
        "colab_type": "text"
      },
      "source": [
        "<a href=\"https://colab.research.google.com/github/bbishal12/Quiz0/blob/main/Recent_Visualization_Proposal.ipynb\" target=\"_parent\"><img src=\"https://colab.research.google.com/assets/colab-badge.svg\" alt=\"Open In Colab\"/></a>"
      ]
    },
    {
      "cell_type": "markdown",
      "source": [
        "Bishal Budhathoki\n",
        "\n",
        "Recent Visualization Proposal\n",
        "\n",
        "Spring 2022\n",
        "\n",
        "Data Visualization\n",
        "\n"
      ],
      "metadata": {
        "id": "dP7z2mzb0ort"
      }
    },
    {
      "cell_type": "markdown",
      "source": [
        "For the recent visualization project, I will be choosing the topic unemployment rate of the United States of the recent data and visualization. The unemployment rate is the percentage of unemployed workers in the labor force. It's a key indicator of the health of the country's economy. \n",
        "\n",
        "Unemployment typically rises during recessions and falls during periods of economic prosperity. The rate also declined during several U.S. wars, particularly during World War II. The unemployment rate rose during the recessions that followed those wars. I will examine these news reports to see how they use visualizations to discuss this important indicator. I will be searching different news articles of the recent about unemployment rate of the US. For this project I would focus primarily on examining graphs from three competing news outlets as well as one from a more scientific resource. Some of the great sources I have found is at https://www.dailymail.co.uk/news/article-10636861/NYC-7-5-unemployment-rate-dependent-office-workers-refuse-return.html.\n",
        "\n",
        "![](https://i.dailymail.co.uk/1s/2022/03/21/19/55624537-10636861-image-a-13_1647892483312.jpg)\n",
        "\n",
        "In the source article, the graph that is being used is bar graph to explain the unemployment rate of the US. The unemployment rate topic is very important in real life for each country. I think from the topic, I can learn what are the causes and effects of the unemployment for the people as well as for the country. While I am working on this project it would be challenge and put efforts that we learned from this course. As this kind of project are used in the real field of work and very important to track the unemployment rate for the development of the country.\n",
        "\n"
      ],
      "metadata": {
        "id": "j2vn1NqV00LS"
      }
    }
  ]
}