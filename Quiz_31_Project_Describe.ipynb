{
  "nbformat": 4,
  "nbformat_minor": 0,
  "metadata": {
    "colab": {
      "name": "Quiz 31 Project Describe.ipynb",
      "provenance": [],
      "collapsed_sections": [],
      "authorship_tag": "ABX9TyOtWlthkut3uhC9+L6ztyHJ",
      "include_colab_link": true
    },
    "kernelspec": {
      "name": "python3",
      "display_name": "Python 3"
    },
    "language_info": {
      "name": "python"
    }
  },
  "cells": [
    {
      "cell_type": "markdown",
      "metadata": {
        "id": "view-in-github",
        "colab_type": "text"
      },
      "source": [
        "<a href=\"https://colab.research.google.com/github/bbishal12/Quiz0/blob/main/Quiz_31_Project_Describe.ipynb\" target=\"_parent\"><img src=\"https://colab.research.google.com/assets/colab-badge.svg\" alt=\"Open In Colab\"/></a>"
      ]
    },
    {
      "cell_type": "markdown",
      "source": [
        "#Data Visualization\n",
        "##Bishal Budhathoki\n",
        "##Quiz 31: Report ideas on Project"
      ],
      "metadata": {
        "id": "P6LVKnQLuWbL"
      }
    },
    {
      "cell_type": "markdown",
      "source": [
        "##What idea do you have for a report on a timely topic to look at data visualizations for?  Do you think you can find 3 stories about it that include visualizations?  Why are you interested in the topic?"
      ],
      "metadata": {
        "id": "AdPawPhmu3Zh"
      }
    },
    {
      "cell_type": "markdown",
      "source": [
        "The first story I am going to do is History of FIFA world cup. The number of team Qualifying where the website used boxplot graph to show the visualization. The link is:\n",
        "https://rpubs.com/cmaronga/fifaworldcupvisualization\n",
        "\n",
        "The second story is Visualization American Income levels by age group using histogram graph with the age group on x axis and income on the y axis.\n",
        "The link is:\n",
        "https://www.visualcapitalist.com/american-income-levels-by-age-group/\n",
        "\n",
        "The third story is about Unemployment rate in the United States from 1990 to 2020, by age using curve scatter plot visualization graph.\n",
        "The link is:\n",
        "https://www.statista.com/statistics/217882/us-unemployment-rate-by-age/\n"
      ],
      "metadata": {
        "id": "Mgv_Byu9u6h2"
      }
    }
  ]
}