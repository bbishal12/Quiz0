{
  "nbformat": 4,
  "nbformat_minor": 0,
  "metadata": {
    "colab": {
      "name": "Quiz23 Graphical Sophistication.ipynb",
      "provenance": [],
      "collapsed_sections": [],
      "authorship_tag": "ABX9TyOOhkUogVSPK1Oo+gw4g/tY",
      "include_colab_link": true
    },
    "kernelspec": {
      "name": "python3",
      "display_name": "Python 3"
    },
    "language_info": {
      "name": "python"
    }
  },
  "cells": [
    {
      "cell_type": "markdown",
      "metadata": {
        "id": "view-in-github",
        "colab_type": "text"
      },
      "source": [
        "<a href=\"https://colab.research.google.com/github/bbishal12/Quiz0/blob/main/Quiz23_Graphical_Sophistication.ipynb\" target=\"_parent\"><img src=\"https://colab.research.google.com/assets/colab-badge.svg\" alt=\"Open In Colab\"/></a>"
      ]
    },
    {
      "cell_type": "markdown",
      "source": [
        "#Data Visualization\n",
        "##Bishal Budhathoki\n",
        "##Quiz 23: Graphical Sophistication"
      ],
      "metadata": {
        "id": "IFM0OHzGVvvr"
      }
    },
    {
      "cell_type": "markdown",
      "source": [
        "Find two charts that were not discussed during class today and examine them for graphical excellence, sophistication and integrity. You should write about 100 words about each graph and include the image and a link to where it can be found."
      ],
      "metadata": {
        "id": "qlCxZcecV27H"
      }
    },
    {
      "cell_type": "markdown",
      "source": [
        "[Cumulative Cases Per 100,000: All States](https://rigorousthemes.com/blog/misleading-data-visualization-examples/)\n",
        "\n",
        "![](https://rigorousthemescom-ebizon.netdna-ssl.com/blog/wp-content/uploads/2021/03/screely-1614678795975.png)\n",
        "\n",
        "The above given graph is the cumulative cases of COVID-19 all the states which was shared by the White House. I’m not sure if they are intentional or not, but including too much data on a single visual will end up confusing an audience rather than helping them. It will take a genius to understand this without using a magnifying glass. It’s not just the number of trend lines that I find impossible to read, the legends on the side do not help matters either. The graph would be readable if the creator isolated the different states or made different graphs for each state. \n"
      ],
      "metadata": {
        "id": "yeeu7CkXWK4M"
      }
    },
    {
      "cell_type": "markdown",
      "source": [
        "[College not Worth Your Time and Money!](https://www.statisticshowto.com/probability-and-statistics/descriptive-statistics/misleading-graphs/)\n",
        "\n",
        "![](https://www.statisticshowto.com/wp-content/uploads/2014/01/diminishing-return.jpg)\n",
        "\n",
        "The above given graph is the costs of 4 years degree vs earnings of 4 years degree. This chart proves that college education just isn’t worth the money anymore. The scale on this chart is fine. The above graphs mean high school graduate are a lot worse than your prospects as a college graduate. Another key piece of information is on the chart itself. Note the average yearly income a college grad can expect is about 45,000 in 2010. That's per year. Over an average working lifetime (say 43 years assuming retirement at 65), that gives you an income of 45,000 * 43 = 1,935,000. Subtract that expensive college education (95,000) and your net earnings are 1,840,000. \n",
        "Compare that with your average high school grad and expect to earn $1,300,000 over lifetime.\n",
        "\n",
        "We learned from this graph is be cautious when you trying to read a chart graph about the topic you didnot know."
      ],
      "metadata": {
        "id": "j8W8b54dbvGc"
      }
    }
  ]
}