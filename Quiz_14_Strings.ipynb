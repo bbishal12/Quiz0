{
  "nbformat": 4,
  "nbformat_minor": 0,
  "metadata": {
    "colab": {
      "name": "Quiz 14 Strings.ipynb",
      "provenance": [],
      "collapsed_sections": [],
      "authorship_tag": "ABX9TyOtUBfzcHrQKO1I5D3MGZ08",
      "include_colab_link": true
    },
    "kernelspec": {
      "name": "python3",
      "display_name": "Python 3"
    },
    "language_info": {
      "name": "python"
    }
  },
  "cells": [
    {
      "cell_type": "markdown",
      "metadata": {
        "id": "view-in-github",
        "colab_type": "text"
      },
      "source": [
        "<a href=\"https://colab.research.google.com/github/bbishal12/Quiz0/blob/main/Quiz_14_Strings.ipynb\" target=\"_parent\"><img src=\"https://colab.research.google.com/assets/colab-badge.svg\" alt=\"Open In Colab\"/></a>"
      ]
    },
    {
      "cell_type": "markdown",
      "source": [
        "#Data Visualization\n",
        "##Bishal Budhathoki\n",
        "##Quiz 14 Strings"
      ],
      "metadata": {
        "id": "Az8NXdE_FNer"
      }
    },
    {
      "cell_type": "markdown",
      "source": [
        "Write a program to print the 'Happy Birthday' song including your name. Try to do it with as few strings as possible."
      ],
      "metadata": {
        "id": "Z-EOCMm_Fw4r"
      }
    },
    {
      "cell_type": "code",
      "source": [
        "H = 'Happy Birthday to you ' +\" \""
      ],
      "metadata": {
        "id": "jkOkkUVsFwEA"
      },
      "execution_count": 1,
      "outputs": []
    },
    {
      "cell_type": "code",
      "execution_count": 2,
      "metadata": {
        "id": "kyjHMEgSFGW4"
      },
      "outputs": [],
      "source": [
        "B = 'Happy Birthday to You ' +\" \""
      ]
    },
    {
      "cell_type": "code",
      "source": [
        "T = 'Happy Birthday Dear Bishal Budhathoki ' +\" \""
      ],
      "metadata": {
        "id": "CyOS3e-fGrgE"
      },
      "execution_count": 6,
      "outputs": []
    },
    {
      "cell_type": "code",
      "source": [
        "Y = 'Happy Birthday to you....' +\" \""
      ],
      "metadata": {
        "id": "NvLrKnDOGwtV"
      },
      "execution_count": 4,
      "outputs": []
    },
    {
      "cell_type": "code",
      "source": [
        "print(H)\n",
        "print(B)\n",
        "print(T)\n",
        "print(Y)"
      ],
      "metadata": {
        "colab": {
          "base_uri": "https://localhost:8080/"
        },
        "id": "Pv4rCxiZHGjy",
        "outputId": "41bd4e4a-5469-406b-8ecc-7de9c21fa678"
      },
      "execution_count": 7,
      "outputs": [
        {
          "output_type": "stream",
          "name": "stdout",
          "text": [
            "Happy Birthday to you  \n",
            "Happy Birthday to You  \n",
            "Happy Birthday Dear Bishal Budhathoki  \n",
            "Happy Birthday to you.... \n"
          ]
        }
      ]
    },
    {
      "cell_type": "markdown",
      "source": [
        "Therefore, this is the program printing Happy Birthday with my name and using strings with Python."
      ],
      "metadata": {
        "id": "nH32d4jrHT1H"
      }
    },
    {
      "cell_type": "markdown",
      "source": [
        ""
      ],
      "metadata": {
        "id": "vbQGPc1UHTr5"
      }
    }
  ]
}