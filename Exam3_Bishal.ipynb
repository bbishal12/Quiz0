{
  "nbformat": 4,
  "nbformat_minor": 0,
  "metadata": {
    "colab": {
      "name": "Exam3 Bishal.ipynb",
      "provenance": [],
      "collapsed_sections": [],
      "authorship_tag": "ABX9TyOQDomS9X0jrI49NnST+tgy",
      "include_colab_link": true
    },
    "kernelspec": {
      "name": "python3",
      "display_name": "Python 3"
    },
    "language_info": {
      "name": "python"
    }
  },
  "cells": [
    {
      "cell_type": "markdown",
      "metadata": {
        "id": "view-in-github",
        "colab_type": "text"
      },
      "source": [
        "<a href=\"https://colab.research.google.com/github/bbishal12/Quiz0/blob/main/Exam3_Bishal.ipynb\" target=\"_parent\"><img src=\"https://colab.research.google.com/assets/colab-badge.svg\" alt=\"Open In Colab\"/></a>"
      ]
    },
    {
      "cell_type": "markdown",
      "source": [
        "#Exam 3\n",
        "##Bishal Budhathoki\n",
        "##Course CPSMA 4313"
      ],
      "metadata": {
        "id": "jbJjxrgJNvXs"
      }
    },
    {
      "cell_type": "markdown",
      "source": [
        "##Resources for all works:\n",
        "\n",
        "https://github.com/nurfnick/Data_Viz/\n",
        "\n",
        "https://www.geeksforgeeks.org/data-visualization-with-python/\n",
        "\n",
        "https://github.com/bbishal12/Quiz0\n",
        "\n",
        "https://www.simplilearn.com/tutorials/python-tutorial/data-visualization-in-python\n",
        "\n",
        "\n",
        "\n"
      ],
      "metadata": {
        "id": "SNhFDHm1OJFU"
      }
    },
    {
      "cell_type": "markdown",
      "source": [
        "##1. Gather the data from the 2018 World Cup provided on Kaggle and provided in the github repo for this course. \n",
        "The link is provided here https://raw.githubusercontent.com/nurfnick/DataViz/main/worldCupPlayer.csv with some data\n",
        "cleaning done for you. I have left repeated data as there is both league play and UEFA play. I have used ‘quotes’ when\n",
        "discussing a column in the dataset. Every visualization should include, title, labels, appropriate coloring, and comments\n",
        "about the visualization and what it says about the data.\n"
      ],
      "metadata": {
        "id": "wuPoqbI8H5ln"
      }
    },
    {
      "cell_type": "code",
      "source": [
        "import pandas as pa\n",
        "import matplotlib.pyplot as plt\n",
        "import seaborn as sns\n",
        "\n",
        "df = pa.read_csv('https://raw.githubusercontent.com/nurfnick/Data_Viz/main/worldCupPlayer.csv')"
      ],
      "metadata": {
        "id": "ZOkCYvCONyns"
      },
      "execution_count": 2,
      "outputs": []
    },
    {
      "cell_type": "code",
      "source": [
        "df.head()"
      ],
      "metadata": {
        "colab": {
          "base_uri": "https://localhost:8080/",
          "height": 206
        },
        "id": "0CGLYJvPIw9H",
        "outputId": "2a66b7d6-47d9-4d14-9381-183b1935214e"
      },
      "execution_count": 3,
      "outputs": [
        {
          "output_type": "execute_result",
          "data": {
            "text/plain": [
              "   Unnamed: 0  Rank               player           club  age   Apps  Mins  \\\n",
              "0           0     1         Hakim Ziyech           Ajax   25     34  3043   \n",
              "1           2     2  Alireza Jahanbakhsh     AZ Alkmaar   24     33  2840   \n",
              "2           4     3       Hirving Lozano  PSV Eindhoven   22     29  2350   \n",
              "3           6    11         Lasse Schone           Ajax   32  27(3)  2350   \n",
              "4          10    25       Santiago Arias  PSV Eindhoven   26     30  2664   \n",
              "\n",
              "   Goals  Assists  Yel  Red  SpG    PS AerialsWon  MotM  Rating nationality  \n",
              "0      9       15    4    0  4.9  75.4        0.2     9    8.21     Morocco  \n",
              "1     21       12    3    0  4.3  73.4        0.7    14    8.20        Iran  \n",
              "2     17        8    4    2  3.4  75.3        0.6     8    7.90      Mexico  \n",
              "3     10        3    6    0  1.9  87.0        1.9     2    7.45     Denmark  \n",
              "4      3        6    5    0  1.5  82.3          1     2    7.25    Colombia  "
            ],
            "text/html": [
              "\n",
              "  <div id=\"df-bf21e185-d58c-4282-b9b0-86e756a5d17f\">\n",
              "    <div class=\"colab-df-container\">\n",
              "      <div>\n",
              "<style scoped>\n",
              "    .dataframe tbody tr th:only-of-type {\n",
              "        vertical-align: middle;\n",
              "    }\n",
              "\n",
              "    .dataframe tbody tr th {\n",
              "        vertical-align: top;\n",
              "    }\n",
              "\n",
              "    .dataframe thead th {\n",
              "        text-align: right;\n",
              "    }\n",
              "</style>\n",
              "<table border=\"1\" class=\"dataframe\">\n",
              "  <thead>\n",
              "    <tr style=\"text-align: right;\">\n",
              "      <th></th>\n",
              "      <th>Unnamed: 0</th>\n",
              "      <th>Rank</th>\n",
              "      <th>player</th>\n",
              "      <th>club</th>\n",
              "      <th>age</th>\n",
              "      <th>Apps</th>\n",
              "      <th>Mins</th>\n",
              "      <th>Goals</th>\n",
              "      <th>Assists</th>\n",
              "      <th>Yel</th>\n",
              "      <th>Red</th>\n",
              "      <th>SpG</th>\n",
              "      <th>PS</th>\n",
              "      <th>AerialsWon</th>\n",
              "      <th>MotM</th>\n",
              "      <th>Rating</th>\n",
              "      <th>nationality</th>\n",
              "    </tr>\n",
              "  </thead>\n",
              "  <tbody>\n",
              "    <tr>\n",
              "      <th>0</th>\n",
              "      <td>0</td>\n",
              "      <td>1</td>\n",
              "      <td>Hakim Ziyech</td>\n",
              "      <td>Ajax</td>\n",
              "      <td>25</td>\n",
              "      <td>34</td>\n",
              "      <td>3043</td>\n",
              "      <td>9</td>\n",
              "      <td>15</td>\n",
              "      <td>4</td>\n",
              "      <td>0</td>\n",
              "      <td>4.9</td>\n",
              "      <td>75.4</td>\n",
              "      <td>0.2</td>\n",
              "      <td>9</td>\n",
              "      <td>8.21</td>\n",
              "      <td>Morocco</td>\n",
              "    </tr>\n",
              "    <tr>\n",
              "      <th>1</th>\n",
              "      <td>2</td>\n",
              "      <td>2</td>\n",
              "      <td>Alireza Jahanbakhsh</td>\n",
              "      <td>AZ Alkmaar</td>\n",
              "      <td>24</td>\n",
              "      <td>33</td>\n",
              "      <td>2840</td>\n",
              "      <td>21</td>\n",
              "      <td>12</td>\n",
              "      <td>3</td>\n",
              "      <td>0</td>\n",
              "      <td>4.3</td>\n",
              "      <td>73.4</td>\n",
              "      <td>0.7</td>\n",
              "      <td>14</td>\n",
              "      <td>8.20</td>\n",
              "      <td>Iran</td>\n",
              "    </tr>\n",
              "    <tr>\n",
              "      <th>2</th>\n",
              "      <td>4</td>\n",
              "      <td>3</td>\n",
              "      <td>Hirving Lozano</td>\n",
              "      <td>PSV Eindhoven</td>\n",
              "      <td>22</td>\n",
              "      <td>29</td>\n",
              "      <td>2350</td>\n",
              "      <td>17</td>\n",
              "      <td>8</td>\n",
              "      <td>4</td>\n",
              "      <td>2</td>\n",
              "      <td>3.4</td>\n",
              "      <td>75.3</td>\n",
              "      <td>0.6</td>\n",
              "      <td>8</td>\n",
              "      <td>7.90</td>\n",
              "      <td>Mexico</td>\n",
              "    </tr>\n",
              "    <tr>\n",
              "      <th>3</th>\n",
              "      <td>6</td>\n",
              "      <td>11</td>\n",
              "      <td>Lasse Schone</td>\n",
              "      <td>Ajax</td>\n",
              "      <td>32</td>\n",
              "      <td>27(3)</td>\n",
              "      <td>2350</td>\n",
              "      <td>10</td>\n",
              "      <td>3</td>\n",
              "      <td>6</td>\n",
              "      <td>0</td>\n",
              "      <td>1.9</td>\n",
              "      <td>87.0</td>\n",
              "      <td>1.9</td>\n",
              "      <td>2</td>\n",
              "      <td>7.45</td>\n",
              "      <td>Denmark</td>\n",
              "    </tr>\n",
              "    <tr>\n",
              "      <th>4</th>\n",
              "      <td>10</td>\n",
              "      <td>25</td>\n",
              "      <td>Santiago Arias</td>\n",
              "      <td>PSV Eindhoven</td>\n",
              "      <td>26</td>\n",
              "      <td>30</td>\n",
              "      <td>2664</td>\n",
              "      <td>3</td>\n",
              "      <td>6</td>\n",
              "      <td>5</td>\n",
              "      <td>0</td>\n",
              "      <td>1.5</td>\n",
              "      <td>82.3</td>\n",
              "      <td>1</td>\n",
              "      <td>2</td>\n",
              "      <td>7.25</td>\n",
              "      <td>Colombia</td>\n",
              "    </tr>\n",
              "  </tbody>\n",
              "</table>\n",
              "</div>\n",
              "      <button class=\"colab-df-convert\" onclick=\"convertToInteractive('df-bf21e185-d58c-4282-b9b0-86e756a5d17f')\"\n",
              "              title=\"Convert this dataframe to an interactive table.\"\n",
              "              style=\"display:none;\">\n",
              "        \n",
              "  <svg xmlns=\"http://www.w3.org/2000/svg\" height=\"24px\"viewBox=\"0 0 24 24\"\n",
              "       width=\"24px\">\n",
              "    <path d=\"M0 0h24v24H0V0z\" fill=\"none\"/>\n",
              "    <path d=\"M18.56 5.44l.94 2.06.94-2.06 2.06-.94-2.06-.94-.94-2.06-.94 2.06-2.06.94zm-11 1L8.5 8.5l.94-2.06 2.06-.94-2.06-.94L8.5 2.5l-.94 2.06-2.06.94zm10 10l.94 2.06.94-2.06 2.06-.94-2.06-.94-.94-2.06-.94 2.06-2.06.94z\"/><path d=\"M17.41 7.96l-1.37-1.37c-.4-.4-.92-.59-1.43-.59-.52 0-1.04.2-1.43.59L10.3 9.45l-7.72 7.72c-.78.78-.78 2.05 0 2.83L4 21.41c.39.39.9.59 1.41.59.51 0 1.02-.2 1.41-.59l7.78-7.78 2.81-2.81c.8-.78.8-2.07 0-2.86zM5.41 20L4 18.59l7.72-7.72 1.47 1.35L5.41 20z\"/>\n",
              "  </svg>\n",
              "      </button>\n",
              "      \n",
              "  <style>\n",
              "    .colab-df-container {\n",
              "      display:flex;\n",
              "      flex-wrap:wrap;\n",
              "      gap: 12px;\n",
              "    }\n",
              "\n",
              "    .colab-df-convert {\n",
              "      background-color: #E8F0FE;\n",
              "      border: none;\n",
              "      border-radius: 50%;\n",
              "      cursor: pointer;\n",
              "      display: none;\n",
              "      fill: #1967D2;\n",
              "      height: 32px;\n",
              "      padding: 0 0 0 0;\n",
              "      width: 32px;\n",
              "    }\n",
              "\n",
              "    .colab-df-convert:hover {\n",
              "      background-color: #E2EBFA;\n",
              "      box-shadow: 0px 1px 2px rgba(60, 64, 67, 0.3), 0px 1px 3px 1px rgba(60, 64, 67, 0.15);\n",
              "      fill: #174EA6;\n",
              "    }\n",
              "\n",
              "    [theme=dark] .colab-df-convert {\n",
              "      background-color: #3B4455;\n",
              "      fill: #D2E3FC;\n",
              "    }\n",
              "\n",
              "    [theme=dark] .colab-df-convert:hover {\n",
              "      background-color: #434B5C;\n",
              "      box-shadow: 0px 1px 3px 1px rgba(0, 0, 0, 0.15);\n",
              "      filter: drop-shadow(0px 1px 2px rgba(0, 0, 0, 0.3));\n",
              "      fill: #FFFFFF;\n",
              "    }\n",
              "  </style>\n",
              "\n",
              "      <script>\n",
              "        const buttonEl =\n",
              "          document.querySelector('#df-bf21e185-d58c-4282-b9b0-86e756a5d17f button.colab-df-convert');\n",
              "        buttonEl.style.display =\n",
              "          google.colab.kernel.accessAllowed ? 'block' : 'none';\n",
              "\n",
              "        async function convertToInteractive(key) {\n",
              "          const element = document.querySelector('#df-bf21e185-d58c-4282-b9b0-86e756a5d17f');\n",
              "          const dataTable =\n",
              "            await google.colab.kernel.invokeFunction('convertToInteractive',\n",
              "                                                     [key], {});\n",
              "          if (!dataTable) return;\n",
              "\n",
              "          const docLinkHtml = 'Like what you see? Visit the ' +\n",
              "            '<a target=\"_blank\" href=https://colab.research.google.com/notebooks/data_table.ipynb>data table notebook</a>'\n",
              "            + ' to learn more about interactive tables.';\n",
              "          element.innerHTML = '';\n",
              "          dataTable['output_type'] = 'display_data';\n",
              "          await google.colab.output.renderOutput(dataTable, element);\n",
              "          const docLink = document.createElement('div');\n",
              "          docLink.innerHTML = docLinkHtml;\n",
              "          element.appendChild(docLink);\n",
              "        }\n",
              "      </script>\n",
              "    </div>\n",
              "  </div>\n",
              "  "
            ]
          },
          "metadata": {},
          "execution_count": 3
        }
      ]
    },
    {
      "cell_type": "markdown",
      "source": [
        "a) (10 points) Store the data as a pandas dataframe. Find your favorite ‘club’ or ‘nationality’ (that is present in the\n",
        "data!), include a picture that represents them and include it in your notebook. (If no favorite, just pick one!)"
      ],
      "metadata": {
        "id": "hDsVItlSOlFx"
      }
    },
    {
      "cell_type": "markdown",
      "source": [
        "[Barcelona](https://www.fcbarcelona.com/en/)"
      ],
      "metadata": {
        "id": "CVtpmdl5Gcgy"
      }
    },
    {
      "cell_type": "markdown",
      "source": [
        "![](https://image.shutterstock.com/z/stock-photo-barcelona-spain-march-view-on-the-field-and-the-tribunes-at-camp-nou-arena-1059238616.jpg)"
      ],
      "metadata": {
        "id": "eixWftm7PARu"
      }
    },
    {
      "cell_type": "markdown",
      "source": [
        "The above image is football club Barcelona. Barcelona is one of my favourite football club since I was kid. Lionel Messi is my favourite player."
      ],
      "metadata": {
        "id": "a-QwvWb-Q1-t"
      }
    },
    {
      "cell_type": "markdown",
      "source": [
        "b) (10 points) Show a table with all the data about your favorite club or nationality. Include some description about\n",
        "an interesting fact in the data."
      ],
      "metadata": {
        "id": "rjrJ70SZI_BN"
      }
    },
    {
      "cell_type": "code",
      "source": [
        "df1 = df[df['club'].str.contains('Barcelona')]\n",
        "df1"
      ],
      "metadata": {
        "id": "NP6qfvtiLAwu",
        "colab": {
          "base_uri": "https://localhost:8080/",
          "height": 676
        },
        "outputId": "f7b2c924-440e-43e5-b43e-36fe1ff26175"
      },
      "execution_count": 4,
      "outputs": [
        {
          "output_type": "execute_result",
          "data": {
            "text/plain": [
              "     Unnamed: 0  Rank                 player       club  age    Apps  Mins  \\\n",
              "169         331    99               Paulinho  Barcelona   29  21(13)  1941   \n",
              "173         339   332               Paulinho  Barcelona   29    4(5)   402   \n",
              "194         381     1           Lionel Messi  Barcelona   30   32(4)  2997   \n",
              "195         382     6           Lionel Messi  Barcelona   30    8(2)   783   \n",
              "198         385     3            Luis Suarez  Barcelona   31   32(1)  2902   \n",
              "199         386   203            Luis Suarez  Barcelona   31      10   884   \n",
              "209         402    16        Sergio Busquets  Barcelona   29   30(1)  2600   \n",
              "210         404   122        Sergio Busquets  Barcelona   29    9(1)   768   \n",
              "211         406    18             Jordi Alba  Barcelona   29   30(3)  2745   \n",
              "212         408   217             Jordi Alba  Barcelona   29    7(1)   638   \n",
              "213         410    25           Gerard Pique  Barcelona   31   29(1)  2633   \n",
              "214         412   166           Gerard Pique  Barcelona   31       9   736   \n",
              "218         420    34           Ivan Rakitic  Barcelona   30   31(4)  2839   \n",
              "219         422   151           Ivan Rakitic  Barcelona   30    8(2)   758   \n",
              "224         432    49          Samuel Umtiti  Barcelona   24   24(1)  2189   \n",
              "225         434   129          Samuel Umtiti  Barcelona   24       9   810   \n",
              "234         452    87         Andres Iniesta  Barcelona   34   25(5)  1843   \n",
              "235         454    73         Andres Iniesta  Barcelona   34       8   624   \n",
              "236         456    89  Marc-Andre ter Stegen  Barcelona   26      37  3330   \n",
              "237         458   225  Marc-Andre ter Stegen  Barcelona   26       9   810   \n",
              "\n",
              "     Goals  Assists  Yel  Red  SpG    PS AerialsWon  MotM  Rating nationality  \n",
              "169      9        2    2    0  1.3  87.8        0.9     0    6.87      Brazil  \n",
              "173      0        0    1    0  1.3  92.2        0.7     0    6.50      Brazil  \n",
              "194     34       12    3    0  5.5  81.2        0.2    22    8.68   Argentina  \n",
              "195      6        2    2    0  4.4  81.5        0.2     6    8.03   Argentina  \n",
              "198     25       12    9    0  3.7  76.9        0.4     5    7.72     Uruguay  \n",
              "199      1        3    2    0  3.2  72.6        0.5     0    6.80     Uruguay  \n",
              "209      1        4    8    0  0.2  90.5        1.6     0    7.25       Spain  \n",
              "210      0        0    1    0  0.2  93.0        1.2     0    7.01       Spain  \n",
              "211      2        8    8    0  0.5  86.8        0.5     2    7.22       Spain  \n",
              "212      0        0    0    0  0.1  87.9        0.3     0    6.78       Spain  \n",
              "213      2        0    9    0  0.6  89.4        2.2     0    7.16       Spain  \n",
              "214      1        0    2    1  0.3  90.2          2     0    6.90       Spain  \n",
              "218      1        5    4    0  0.8  90.3        0.7     0    7.12     Croatia  \n",
              "219      1        0    1    0  0.5  91.0        0.5     1    6.95     Croatia  \n",
              "224      1        0    7    0  0.4  91.2        1.9     0    7.03      France  \n",
              "225      0        0    0    0  0.1  91.0        1.6     0    7.01      France  \n",
              "234      1        2    1    0  0.5  88.2        0.1     0    6.91       Spain  \n",
              "235      0        2    0    0    1  90.2          -     0    7.15       Spain  \n",
              "236      0        0    0    0    -  79.5        0.1     0    6.90     Germany  \n",
              "237      0        0    0    0    -  74.5        0.2     0    6.76     Germany  "
            ],
            "text/html": [
              "\n",
              "  <div id=\"df-d8d73208-d35f-47d0-bf98-1e9762253f56\">\n",
              "    <div class=\"colab-df-container\">\n",
              "      <div>\n",
              "<style scoped>\n",
              "    .dataframe tbody tr th:only-of-type {\n",
              "        vertical-align: middle;\n",
              "    }\n",
              "\n",
              "    .dataframe tbody tr th {\n",
              "        vertical-align: top;\n",
              "    }\n",
              "\n",
              "    .dataframe thead th {\n",
              "        text-align: right;\n",
              "    }\n",
              "</style>\n",
              "<table border=\"1\" class=\"dataframe\">\n",
              "  <thead>\n",
              "    <tr style=\"text-align: right;\">\n",
              "      <th></th>\n",
              "      <th>Unnamed: 0</th>\n",
              "      <th>Rank</th>\n",
              "      <th>player</th>\n",
              "      <th>club</th>\n",
              "      <th>age</th>\n",
              "      <th>Apps</th>\n",
              "      <th>Mins</th>\n",
              "      <th>Goals</th>\n",
              "      <th>Assists</th>\n",
              "      <th>Yel</th>\n",
              "      <th>Red</th>\n",
              "      <th>SpG</th>\n",
              "      <th>PS</th>\n",
              "      <th>AerialsWon</th>\n",
              "      <th>MotM</th>\n",
              "      <th>Rating</th>\n",
              "      <th>nationality</th>\n",
              "    </tr>\n",
              "  </thead>\n",
              "  <tbody>\n",
              "    <tr>\n",
              "      <th>169</th>\n",
              "      <td>331</td>\n",
              "      <td>99</td>\n",
              "      <td>Paulinho</td>\n",
              "      <td>Barcelona</td>\n",
              "      <td>29</td>\n",
              "      <td>21(13)</td>\n",
              "      <td>1941</td>\n",
              "      <td>9</td>\n",
              "      <td>2</td>\n",
              "      <td>2</td>\n",
              "      <td>0</td>\n",
              "      <td>1.3</td>\n",
              "      <td>87.8</td>\n",
              "      <td>0.9</td>\n",
              "      <td>0</td>\n",
              "      <td>6.87</td>\n",
              "      <td>Brazil</td>\n",
              "    </tr>\n",
              "    <tr>\n",
              "      <th>173</th>\n",
              "      <td>339</td>\n",
              "      <td>332</td>\n",
              "      <td>Paulinho</td>\n",
              "      <td>Barcelona</td>\n",
              "      <td>29</td>\n",
              "      <td>4(5)</td>\n",
              "      <td>402</td>\n",
              "      <td>0</td>\n",
              "      <td>0</td>\n",
              "      <td>1</td>\n",
              "      <td>0</td>\n",
              "      <td>1.3</td>\n",
              "      <td>92.2</td>\n",
              "      <td>0.7</td>\n",
              "      <td>0</td>\n",
              "      <td>6.50</td>\n",
              "      <td>Brazil</td>\n",
              "    </tr>\n",
              "    <tr>\n",
              "      <th>194</th>\n",
              "      <td>381</td>\n",
              "      <td>1</td>\n",
              "      <td>Lionel Messi</td>\n",
              "      <td>Barcelona</td>\n",
              "      <td>30</td>\n",
              "      <td>32(4)</td>\n",
              "      <td>2997</td>\n",
              "      <td>34</td>\n",
              "      <td>12</td>\n",
              "      <td>3</td>\n",
              "      <td>0</td>\n",
              "      <td>5.5</td>\n",
              "      <td>81.2</td>\n",
              "      <td>0.2</td>\n",
              "      <td>22</td>\n",
              "      <td>8.68</td>\n",
              "      <td>Argentina</td>\n",
              "    </tr>\n",
              "    <tr>\n",
              "      <th>195</th>\n",
              "      <td>382</td>\n",
              "      <td>6</td>\n",
              "      <td>Lionel Messi</td>\n",
              "      <td>Barcelona</td>\n",
              "      <td>30</td>\n",
              "      <td>8(2)</td>\n",
              "      <td>783</td>\n",
              "      <td>6</td>\n",
              "      <td>2</td>\n",
              "      <td>2</td>\n",
              "      <td>0</td>\n",
              "      <td>4.4</td>\n",
              "      <td>81.5</td>\n",
              "      <td>0.2</td>\n",
              "      <td>6</td>\n",
              "      <td>8.03</td>\n",
              "      <td>Argentina</td>\n",
              "    </tr>\n",
              "    <tr>\n",
              "      <th>198</th>\n",
              "      <td>385</td>\n",
              "      <td>3</td>\n",
              "      <td>Luis Suarez</td>\n",
              "      <td>Barcelona</td>\n",
              "      <td>31</td>\n",
              "      <td>32(1)</td>\n",
              "      <td>2902</td>\n",
              "      <td>25</td>\n",
              "      <td>12</td>\n",
              "      <td>9</td>\n",
              "      <td>0</td>\n",
              "      <td>3.7</td>\n",
              "      <td>76.9</td>\n",
              "      <td>0.4</td>\n",
              "      <td>5</td>\n",
              "      <td>7.72</td>\n",
              "      <td>Uruguay</td>\n",
              "    </tr>\n",
              "    <tr>\n",
              "      <th>199</th>\n",
              "      <td>386</td>\n",
              "      <td>203</td>\n",
              "      <td>Luis Suarez</td>\n",
              "      <td>Barcelona</td>\n",
              "      <td>31</td>\n",
              "      <td>10</td>\n",
              "      <td>884</td>\n",
              "      <td>1</td>\n",
              "      <td>3</td>\n",
              "      <td>2</td>\n",
              "      <td>0</td>\n",
              "      <td>3.2</td>\n",
              "      <td>72.6</td>\n",
              "      <td>0.5</td>\n",
              "      <td>0</td>\n",
              "      <td>6.80</td>\n",
              "      <td>Uruguay</td>\n",
              "    </tr>\n",
              "    <tr>\n",
              "      <th>209</th>\n",
              "      <td>402</td>\n",
              "      <td>16</td>\n",
              "      <td>Sergio Busquets</td>\n",
              "      <td>Barcelona</td>\n",
              "      <td>29</td>\n",
              "      <td>30(1)</td>\n",
              "      <td>2600</td>\n",
              "      <td>1</td>\n",
              "      <td>4</td>\n",
              "      <td>8</td>\n",
              "      <td>0</td>\n",
              "      <td>0.2</td>\n",
              "      <td>90.5</td>\n",
              "      <td>1.6</td>\n",
              "      <td>0</td>\n",
              "      <td>7.25</td>\n",
              "      <td>Spain</td>\n",
              "    </tr>\n",
              "    <tr>\n",
              "      <th>210</th>\n",
              "      <td>404</td>\n",
              "      <td>122</td>\n",
              "      <td>Sergio Busquets</td>\n",
              "      <td>Barcelona</td>\n",
              "      <td>29</td>\n",
              "      <td>9(1)</td>\n",
              "      <td>768</td>\n",
              "      <td>0</td>\n",
              "      <td>0</td>\n",
              "      <td>1</td>\n",
              "      <td>0</td>\n",
              "      <td>0.2</td>\n",
              "      <td>93.0</td>\n",
              "      <td>1.2</td>\n",
              "      <td>0</td>\n",
              "      <td>7.01</td>\n",
              "      <td>Spain</td>\n",
              "    </tr>\n",
              "    <tr>\n",
              "      <th>211</th>\n",
              "      <td>406</td>\n",
              "      <td>18</td>\n",
              "      <td>Jordi Alba</td>\n",
              "      <td>Barcelona</td>\n",
              "      <td>29</td>\n",
              "      <td>30(3)</td>\n",
              "      <td>2745</td>\n",
              "      <td>2</td>\n",
              "      <td>8</td>\n",
              "      <td>8</td>\n",
              "      <td>0</td>\n",
              "      <td>0.5</td>\n",
              "      <td>86.8</td>\n",
              "      <td>0.5</td>\n",
              "      <td>2</td>\n",
              "      <td>7.22</td>\n",
              "      <td>Spain</td>\n",
              "    </tr>\n",
              "    <tr>\n",
              "      <th>212</th>\n",
              "      <td>408</td>\n",
              "      <td>217</td>\n",
              "      <td>Jordi Alba</td>\n",
              "      <td>Barcelona</td>\n",
              "      <td>29</td>\n",
              "      <td>7(1)</td>\n",
              "      <td>638</td>\n",
              "      <td>0</td>\n",
              "      <td>0</td>\n",
              "      <td>0</td>\n",
              "      <td>0</td>\n",
              "      <td>0.1</td>\n",
              "      <td>87.9</td>\n",
              "      <td>0.3</td>\n",
              "      <td>0</td>\n",
              "      <td>6.78</td>\n",
              "      <td>Spain</td>\n",
              "    </tr>\n",
              "    <tr>\n",
              "      <th>213</th>\n",
              "      <td>410</td>\n",
              "      <td>25</td>\n",
              "      <td>Gerard Pique</td>\n",
              "      <td>Barcelona</td>\n",
              "      <td>31</td>\n",
              "      <td>29(1)</td>\n",
              "      <td>2633</td>\n",
              "      <td>2</td>\n",
              "      <td>0</td>\n",
              "      <td>9</td>\n",
              "      <td>0</td>\n",
              "      <td>0.6</td>\n",
              "      <td>89.4</td>\n",
              "      <td>2.2</td>\n",
              "      <td>0</td>\n",
              "      <td>7.16</td>\n",
              "      <td>Spain</td>\n",
              "    </tr>\n",
              "    <tr>\n",
              "      <th>214</th>\n",
              "      <td>412</td>\n",
              "      <td>166</td>\n",
              "      <td>Gerard Pique</td>\n",
              "      <td>Barcelona</td>\n",
              "      <td>31</td>\n",
              "      <td>9</td>\n",
              "      <td>736</td>\n",
              "      <td>1</td>\n",
              "      <td>0</td>\n",
              "      <td>2</td>\n",
              "      <td>1</td>\n",
              "      <td>0.3</td>\n",
              "      <td>90.2</td>\n",
              "      <td>2</td>\n",
              "      <td>0</td>\n",
              "      <td>6.90</td>\n",
              "      <td>Spain</td>\n",
              "    </tr>\n",
              "    <tr>\n",
              "      <th>218</th>\n",
              "      <td>420</td>\n",
              "      <td>34</td>\n",
              "      <td>Ivan Rakitic</td>\n",
              "      <td>Barcelona</td>\n",
              "      <td>30</td>\n",
              "      <td>31(4)</td>\n",
              "      <td>2839</td>\n",
              "      <td>1</td>\n",
              "      <td>5</td>\n",
              "      <td>4</td>\n",
              "      <td>0</td>\n",
              "      <td>0.8</td>\n",
              "      <td>90.3</td>\n",
              "      <td>0.7</td>\n",
              "      <td>0</td>\n",
              "      <td>7.12</td>\n",
              "      <td>Croatia</td>\n",
              "    </tr>\n",
              "    <tr>\n",
              "      <th>219</th>\n",
              "      <td>422</td>\n",
              "      <td>151</td>\n",
              "      <td>Ivan Rakitic</td>\n",
              "      <td>Barcelona</td>\n",
              "      <td>30</td>\n",
              "      <td>8(2)</td>\n",
              "      <td>758</td>\n",
              "      <td>1</td>\n",
              "      <td>0</td>\n",
              "      <td>1</td>\n",
              "      <td>0</td>\n",
              "      <td>0.5</td>\n",
              "      <td>91.0</td>\n",
              "      <td>0.5</td>\n",
              "      <td>1</td>\n",
              "      <td>6.95</td>\n",
              "      <td>Croatia</td>\n",
              "    </tr>\n",
              "    <tr>\n",
              "      <th>224</th>\n",
              "      <td>432</td>\n",
              "      <td>49</td>\n",
              "      <td>Samuel Umtiti</td>\n",
              "      <td>Barcelona</td>\n",
              "      <td>24</td>\n",
              "      <td>24(1)</td>\n",
              "      <td>2189</td>\n",
              "      <td>1</td>\n",
              "      <td>0</td>\n",
              "      <td>7</td>\n",
              "      <td>0</td>\n",
              "      <td>0.4</td>\n",
              "      <td>91.2</td>\n",
              "      <td>1.9</td>\n",
              "      <td>0</td>\n",
              "      <td>7.03</td>\n",
              "      <td>France</td>\n",
              "    </tr>\n",
              "    <tr>\n",
              "      <th>225</th>\n",
              "      <td>434</td>\n",
              "      <td>129</td>\n",
              "      <td>Samuel Umtiti</td>\n",
              "      <td>Barcelona</td>\n",
              "      <td>24</td>\n",
              "      <td>9</td>\n",
              "      <td>810</td>\n",
              "      <td>0</td>\n",
              "      <td>0</td>\n",
              "      <td>0</td>\n",
              "      <td>0</td>\n",
              "      <td>0.1</td>\n",
              "      <td>91.0</td>\n",
              "      <td>1.6</td>\n",
              "      <td>0</td>\n",
              "      <td>7.01</td>\n",
              "      <td>France</td>\n",
              "    </tr>\n",
              "    <tr>\n",
              "      <th>234</th>\n",
              "      <td>452</td>\n",
              "      <td>87</td>\n",
              "      <td>Andres Iniesta</td>\n",
              "      <td>Barcelona</td>\n",
              "      <td>34</td>\n",
              "      <td>25(5)</td>\n",
              "      <td>1843</td>\n",
              "      <td>1</td>\n",
              "      <td>2</td>\n",
              "      <td>1</td>\n",
              "      <td>0</td>\n",
              "      <td>0.5</td>\n",
              "      <td>88.2</td>\n",
              "      <td>0.1</td>\n",
              "      <td>0</td>\n",
              "      <td>6.91</td>\n",
              "      <td>Spain</td>\n",
              "    </tr>\n",
              "    <tr>\n",
              "      <th>235</th>\n",
              "      <td>454</td>\n",
              "      <td>73</td>\n",
              "      <td>Andres Iniesta</td>\n",
              "      <td>Barcelona</td>\n",
              "      <td>34</td>\n",
              "      <td>8</td>\n",
              "      <td>624</td>\n",
              "      <td>0</td>\n",
              "      <td>2</td>\n",
              "      <td>0</td>\n",
              "      <td>0</td>\n",
              "      <td>1</td>\n",
              "      <td>90.2</td>\n",
              "      <td>-</td>\n",
              "      <td>0</td>\n",
              "      <td>7.15</td>\n",
              "      <td>Spain</td>\n",
              "    </tr>\n",
              "    <tr>\n",
              "      <th>236</th>\n",
              "      <td>456</td>\n",
              "      <td>89</td>\n",
              "      <td>Marc-Andre ter Stegen</td>\n",
              "      <td>Barcelona</td>\n",
              "      <td>26</td>\n",
              "      <td>37</td>\n",
              "      <td>3330</td>\n",
              "      <td>0</td>\n",
              "      <td>0</td>\n",
              "      <td>0</td>\n",
              "      <td>0</td>\n",
              "      <td>-</td>\n",
              "      <td>79.5</td>\n",
              "      <td>0.1</td>\n",
              "      <td>0</td>\n",
              "      <td>6.90</td>\n",
              "      <td>Germany</td>\n",
              "    </tr>\n",
              "    <tr>\n",
              "      <th>237</th>\n",
              "      <td>458</td>\n",
              "      <td>225</td>\n",
              "      <td>Marc-Andre ter Stegen</td>\n",
              "      <td>Barcelona</td>\n",
              "      <td>26</td>\n",
              "      <td>9</td>\n",
              "      <td>810</td>\n",
              "      <td>0</td>\n",
              "      <td>0</td>\n",
              "      <td>0</td>\n",
              "      <td>0</td>\n",
              "      <td>-</td>\n",
              "      <td>74.5</td>\n",
              "      <td>0.2</td>\n",
              "      <td>0</td>\n",
              "      <td>6.76</td>\n",
              "      <td>Germany</td>\n",
              "    </tr>\n",
              "  </tbody>\n",
              "</table>\n",
              "</div>\n",
              "      <button class=\"colab-df-convert\" onclick=\"convertToInteractive('df-d8d73208-d35f-47d0-bf98-1e9762253f56')\"\n",
              "              title=\"Convert this dataframe to an interactive table.\"\n",
              "              style=\"display:none;\">\n",
              "        \n",
              "  <svg xmlns=\"http://www.w3.org/2000/svg\" height=\"24px\"viewBox=\"0 0 24 24\"\n",
              "       width=\"24px\">\n",
              "    <path d=\"M0 0h24v24H0V0z\" fill=\"none\"/>\n",
              "    <path d=\"M18.56 5.44l.94 2.06.94-2.06 2.06-.94-2.06-.94-.94-2.06-.94 2.06-2.06.94zm-11 1L8.5 8.5l.94-2.06 2.06-.94-2.06-.94L8.5 2.5l-.94 2.06-2.06.94zm10 10l.94 2.06.94-2.06 2.06-.94-2.06-.94-.94-2.06-.94 2.06-2.06.94z\"/><path d=\"M17.41 7.96l-1.37-1.37c-.4-.4-.92-.59-1.43-.59-.52 0-1.04.2-1.43.59L10.3 9.45l-7.72 7.72c-.78.78-.78 2.05 0 2.83L4 21.41c.39.39.9.59 1.41.59.51 0 1.02-.2 1.41-.59l7.78-7.78 2.81-2.81c.8-.78.8-2.07 0-2.86zM5.41 20L4 18.59l7.72-7.72 1.47 1.35L5.41 20z\"/>\n",
              "  </svg>\n",
              "      </button>\n",
              "      \n",
              "  <style>\n",
              "    .colab-df-container {\n",
              "      display:flex;\n",
              "      flex-wrap:wrap;\n",
              "      gap: 12px;\n",
              "    }\n",
              "\n",
              "    .colab-df-convert {\n",
              "      background-color: #E8F0FE;\n",
              "      border: none;\n",
              "      border-radius: 50%;\n",
              "      cursor: pointer;\n",
              "      display: none;\n",
              "      fill: #1967D2;\n",
              "      height: 32px;\n",
              "      padding: 0 0 0 0;\n",
              "      width: 32px;\n",
              "    }\n",
              "\n",
              "    .colab-df-convert:hover {\n",
              "      background-color: #E2EBFA;\n",
              "      box-shadow: 0px 1px 2px rgba(60, 64, 67, 0.3), 0px 1px 3px 1px rgba(60, 64, 67, 0.15);\n",
              "      fill: #174EA6;\n",
              "    }\n",
              "\n",
              "    [theme=dark] .colab-df-convert {\n",
              "      background-color: #3B4455;\n",
              "      fill: #D2E3FC;\n",
              "    }\n",
              "\n",
              "    [theme=dark] .colab-df-convert:hover {\n",
              "      background-color: #434B5C;\n",
              "      box-shadow: 0px 1px 3px 1px rgba(0, 0, 0, 0.15);\n",
              "      filter: drop-shadow(0px 1px 2px rgba(0, 0, 0, 0.3));\n",
              "      fill: #FFFFFF;\n",
              "    }\n",
              "  </style>\n",
              "\n",
              "      <script>\n",
              "        const buttonEl =\n",
              "          document.querySelector('#df-d8d73208-d35f-47d0-bf98-1e9762253f56 button.colab-df-convert');\n",
              "        buttonEl.style.display =\n",
              "          google.colab.kernel.accessAllowed ? 'block' : 'none';\n",
              "\n",
              "        async function convertToInteractive(key) {\n",
              "          const element = document.querySelector('#df-d8d73208-d35f-47d0-bf98-1e9762253f56');\n",
              "          const dataTable =\n",
              "            await google.colab.kernel.invokeFunction('convertToInteractive',\n",
              "                                                     [key], {});\n",
              "          if (!dataTable) return;\n",
              "\n",
              "          const docLinkHtml = 'Like what you see? Visit the ' +\n",
              "            '<a target=\"_blank\" href=https://colab.research.google.com/notebooks/data_table.ipynb>data table notebook</a>'\n",
              "            + ' to learn more about interactive tables.';\n",
              "          element.innerHTML = '';\n",
              "          dataTable['output_type'] = 'display_data';\n",
              "          await google.colab.output.renderOutput(dataTable, element);\n",
              "          const docLink = document.createElement('div');\n",
              "          docLink.innerHTML = docLinkHtml;\n",
              "          element.appendChild(docLink);\n",
              "        }\n",
              "      </script>\n",
              "    </div>\n",
              "  </div>\n",
              "  "
            ]
          },
          "metadata": {},
          "execution_count": 4
        }
      ]
    },
    {
      "cell_type": "markdown",
      "source": [
        "Lionel Messi was the former player of Barcelona who had scored highest goal of 34 as of above given data set. But today as of 2022 he is playing at Paris Saint German (PSG FC). So, I think this is one of the interesting fact of Barcelona football club."
      ],
      "metadata": {
        "id": "EshkrMjQxfZr"
      }
    },
    {
      "cell_type": "markdown",
      "source": [
        "c) (10 points) Create a histogram of the ‘Goals’."
      ],
      "metadata": {
        "id": "AEhPl_sKLDkH"
      }
    },
    {
      "cell_type": "code",
      "source": [
        "ax = df.Goals.hist(bins = 25)\n",
        "ax.set(title = \"Histogram of the Goals\")\n",
        "ax.set_xlabel(\"Goals scored\", labelpad=25, size=10)\n",
        "ax.set_ylabel(\"Number of Players\", labelpad=25, size=10)\n",
        "plt.show()"
      ],
      "metadata": {
        "id": "HWuq_6lJLGwV",
        "colab": {
          "base_uri": "https://localhost:8080/",
          "height": 316
        },
        "outputId": "32817119-9157-4d5d-9491-3340fb236dbe"
      },
      "execution_count": 8,
      "outputs": [
        {
          "output_type": "display_data",
          "data": {
            "text/plain": [
              "<Figure size 432x288 with 1 Axes>"
            ],
            "image/png": "[encoded data removed]"
          },
          "metadata": {
            "needs_background": "light"
          }
        }
      ]
    },
    {
      "cell_type": "markdown",
      "source": [
        "The above graph is the histogram of the goals scored by the player in the given dataset. As we can see that less number of players scored more goals than more number of players. Strikers and forward are able to scored more goals than the other players."
      ],
      "metadata": {
        "id": "6YgubyB9zW-P"
      }
    },
    {
      "cell_type": "markdown",
      "source": [
        "d) (10 points) Create a histogram of the ‘Goals’ and ‘Assists’ on the same axis."
      ],
      "metadata": {
        "id": "fOrevnTjLHHD"
      }
    },
    {
      "cell_type": "code",
      "source": [
        "df[['Goals','Assists']].plot.hist(alpha = 0.5, bins = 20)"
      ],
      "metadata": {
        "id": "lWuMv1QVLJ4s",
        "colab": {
          "base_uri": "https://localhost:8080/",
          "height": 282
        },
        "outputId": "72434f86-dd02-4d1b-b3df-40f8def8a186"
      },
      "execution_count": 9,
      "outputs": [
        {
          "output_type": "execute_result",
          "data": {
            "text/plain": [
              "<matplotlib.axes._subplots.AxesSubplot at 0x7f6f7b710a90>"
            ]
          },
          "metadata": {},
          "execution_count": 9
        },
        {
          "output_type": "display_data",
          "data": {
            "text/plain": [
              "<Figure size 432x288 with 1 Axes>"
            ],
            "image/png": "[encoded data removed]"
          },
          "metadata": {
            "needs_background": "light"
          }
        }
      ]
    },
    {
      "cell_type": "markdown",
      "source": [
        "The above graph is histogram of the Goals and Assists on the same axis. Here we use dataset plot with alpha and bins to create a goals and assists on the same axis."
      ],
      "metadata": {
        "id": "Gxf9_nPF9vFS"
      }
    },
    {
      "cell_type": "markdown",
      "source": [
        "e) (10 points) Create a barchart for most goals scored by nationality.\n"
      ],
      "metadata": {
        "id": "oQYXOBx9LK1d"
      }
    },
    {
      "cell_type": "code",
      "source": [
        "ax = df.groupby('nationality').Goals.agg('mean').plot(kind = 'bar')\n",
        "ax.set(title = \"Most goals scored by nationality\")\n",
        "ax.set(ylabel = 'Number of goals')\n",
        "plt.show()"
      ],
      "metadata": {
        "id": "lnPkaLYRLVp2",
        "colab": {
          "base_uri": "https://localhost:8080/",
          "height": 344
        },
        "outputId": "623580af-ceae-44ca-f5bb-3da979f3b62b"
      },
      "execution_count": 10,
      "outputs": [
        {
          "output_type": "display_data",
          "data": {
            "text/plain": [
              "<Figure size 432x288 with 1 Axes>"
            ],
            "image/png": "[encoded data removed]"
          },
          "metadata": {
            "needs_background": "light"
          }
        }
      ]
    },
    {
      "cell_type": "markdown",
      "source": [
        "The above graph is barchart for the most goals scored by nationality using plot python of the dataset. We found that Egypt has scored more goals in the world cup as per given data year and followed by Iran and then Argentina."
      ],
      "metadata": {
        "id": "NqbzIYu1-FGN"
      }
    },
    {
      "cell_type": "markdown",
      "source": [
        "f) (10 points) Create a boxplot of ‘Yel’ (yellow cards) by nationality."
      ],
      "metadata": {
        "id": "bibelImmLTdw"
      }
    },
    {
      "cell_type": "code",
      "source": [
        "bp = df.boxplot(column=['Yel'], by = 'nationality', rot = 90)\n",
        "bp.plot()\n",
        "plt.xlabel('nationality')\n",
        "plt.ylabel('yellow cards')"
      ],
      "metadata": {
        "id": "XuMWrqnYLYr3",
        "colab": {
          "base_uri": "https://localhost:8080/",
          "height": 421
        },
        "outputId": "d91e94a3-06b6-4e88-90cd-4af1adeb77a5"
      },
      "execution_count": 11,
      "outputs": [
        {
          "output_type": "stream",
          "name": "stderr",
          "text": [
            "/usr/local/lib/python3.7/dist-packages/matplotlib/cbook/__init__.py:1376: VisibleDeprecationWarning: Creating an ndarray from ragged nested sequences (which is a list-or-tuple of lists-or-tuples-or ndarrays with different lengths or shapes) is deprecated. If you meant to do this, you must specify 'dtype=object' when creating the ndarray.\n",
            "  X = np.atleast_1d(X.T if isinstance(X, np.ndarray) else np.asarray(X))\n"
          ]
        },
        {
          "output_type": "execute_result",
          "data": {
            "text/plain": [
              "Text(0, 0.5, 'yellow cards')"
            ]
          },
          "metadata": {},
          "execution_count": 11
        },
        {
          "output_type": "display_data",
          "data": {
            "text/plain": [
              "<Figure size 432x288 with 1 Axes>"
            ],
            "image/png": "[encoded data removed]"
          },
          "metadata": {
            "needs_background": "light"
          }
        }
      ]
    },
    {
      "cell_type": "markdown",
      "source": [
        "The above graph is a boxplot of yellow cards by the nationality in the given year world cup from the data set. We found that Columbia has got most yellow cards."
      ],
      "metadata": {
        "id": "mm3dfdwi-ixt"
      }
    },
    {
      "cell_type": "markdown",
      "source": [
        "g) (10 points) Create ‘Goals’ and ‘Assists’ as scatter. Signify your favorite club or nationality in some way on the\n",
        "scatterplot. You may need to add a new column to the dataset to do so"
      ],
      "metadata": {
        "id": "Rr9pAS1PLUKZ"
      }
    },
    {
      "cell_type": "code",
      "source": [
        "sns.relplot(data=df, x = 'Goals', y= 'Assists' )\n",
        "plt.title('A scatterplot of goals and assists')"
      ],
      "metadata": {
        "id": "aW7kv10eLdo0",
        "colab": {
          "base_uri": "https://localhost:8080/",
          "height": 402
        },
        "outputId": "d695d01f-361a-4fb7-a6ec-e25e03172d65"
      },
      "execution_count": 12,
      "outputs": [
        {
          "output_type": "execute_result",
          "data": {
            "text/plain": [
              "Text(0.5, 1.0, 'A scatterplot of goals and assists')"
            ]
          },
          "metadata": {},
          "execution_count": 12
        },
        {
          "output_type": "display_data",
          "data": {
            "text/plain": [
              "<Figure size 360x360 with 1 Axes>"
            ],
            "image/png": "[encoded data removed]"
          },
          "metadata": {
            "needs_background": "light"
          }
        }
      ]
    },
    {
      "cell_type": "markdown",
      "source": [
        "The above dataset is the graph of scatter plots of goals and assists of Barcelona."
      ],
      "metadata": {
        "id": "44Ooehcj-1f5"
      }
    },
    {
      "cell_type": "code",
      "source": [
        "def BarcelonaGoals(row):\n",
        "  return row.Goals\n",
        "\n",
        "def BarcelonaAssists(row):\n",
        "  return row.Assists"
      ],
      "metadata": {
        "id": "qSRtfg6l4mhT"
      },
      "execution_count": 13,
      "outputs": []
    },
    {
      "cell_type": "markdown",
      "source": [
        "Here, in above code we use a function where  we take a row of data and return sum of goals and assists. We use str.contains function and lambda to calculate the scatter of goals and assists."
      ],
      "metadata": {
        "id": "2xQbcG3z_B16"
      }
    },
    {
      "cell_type": "code",
      "source": [
        "df2 = df[df['club'].str.contains('Barcelona')]\n",
        "\n",
        "df['FCB_goals'] = df2.apply(lambda row: BarcelonaGoals(row), axis=1)\n",
        "\n",
        "df['FCB_assists'] = df2.apply(lambda row: BarcelonaAssists(row), axis=1)"
      ],
      "metadata": {
        "id": "TWAS6qbl59QO"
      },
      "execution_count": 15,
      "outputs": []
    },
    {
      "cell_type": "code",
      "source": [
        "df['FCB_goals'] = df['FCB_goals'].fillna(0).astype(int)\n",
        "df['FCB_goals'] = df['FCB_goals'].astype('int')\n",
        "df['FCB_assists'] = df['FCB_assists'].fillna(0).astype(int)\n",
        "df['FCB_assists'] = df['FCB_assists'].astype('int')"
      ],
      "metadata": {
        "id": "9KBM3WqI6mm1"
      },
      "execution_count": 20,
      "outputs": []
    },
    {
      "cell_type": "code",
      "source": [
        "df[df['club'].str.contains('Barcelona')]"
      ],
      "metadata": {
        "colab": {
          "base_uri": "https://localhost:8080/",
          "height": 720
        },
        "id": "5srHhyn36O-4",
        "outputId": "856f3526-0063-40df-ffed-5803cd0578ca"
      },
      "execution_count": 16,
      "outputs": [
        {
          "output_type": "execute_result",
          "data": {
            "text/plain": [
              "     Unnamed: 0  Rank                 player       club  age    Apps  Mins  \\\n",
              "169         331    99               Paulinho  Barcelona   29  21(13)  1941   \n",
              "173         339   332               Paulinho  Barcelona   29    4(5)   402   \n",
              "194         381     1           Lionel Messi  Barcelona   30   32(4)  2997   \n",
              "195         382     6           Lionel Messi  Barcelona   30    8(2)   783   \n",
              "198         385     3            Luis Suarez  Barcelona   31   32(1)  2902   \n",
              "199         386   203            Luis Suarez  Barcelona   31      10   884   \n",
              "209         402    16        Sergio Busquets  Barcelona   29   30(1)  2600   \n",
              "210         404   122        Sergio Busquets  Barcelona   29    9(1)   768   \n",
              "211         406    18             Jordi Alba  Barcelona   29   30(3)  2745   \n",
              "212         408   217             Jordi Alba  Barcelona   29    7(1)   638   \n",
              "213         410    25           Gerard Pique  Barcelona   31   29(1)  2633   \n",
              "214         412   166           Gerard Pique  Barcelona   31       9   736   \n",
              "218         420    34           Ivan Rakitic  Barcelona   30   31(4)  2839   \n",
              "219         422   151           Ivan Rakitic  Barcelona   30    8(2)   758   \n",
              "224         432    49          Samuel Umtiti  Barcelona   24   24(1)  2189   \n",
              "225         434   129          Samuel Umtiti  Barcelona   24       9   810   \n",
              "234         452    87         Andres Iniesta  Barcelona   34   25(5)  1843   \n",
              "235         454    73         Andres Iniesta  Barcelona   34       8   624   \n",
              "236         456    89  Marc-Andre ter Stegen  Barcelona   26      37  3330   \n",
              "237         458   225  Marc-Andre ter Stegen  Barcelona   26       9   810   \n",
              "\n",
              "     Goals  Assists  Yel  Red  SpG    PS AerialsWon  MotM  Rating nationality  \\\n",
              "169      9        2    2    0  1.3  87.8        0.9     0    6.87      Brazil   \n",
              "173      0        0    1    0  1.3  92.2        0.7     0    6.50      Brazil   \n",
              "194     34       12    3    0  5.5  81.2        0.2    22    8.68   Argentina   \n",
              "195      6        2    2    0  4.4  81.5        0.2     6    8.03   Argentina   \n",
              "198     25       12    9    0  3.7  76.9        0.4     5    7.72     Uruguay   \n",
              "199      1        3    2    0  3.2  72.6        0.5     0    6.80     Uruguay   \n",
              "209      1        4    8    0  0.2  90.5        1.6     0    7.25       Spain   \n",
              "210      0        0    1    0  0.2  93.0        1.2     0    7.01       Spain   \n",
              "211      2        8    8    0  0.5  86.8        0.5     2    7.22       Spain   \n",
              "212      0        0    0    0  0.1  87.9        0.3     0    6.78       Spain   \n",
              "213      2        0    9    0  0.6  89.4        2.2     0    7.16       Spain   \n",
              "214      1        0    2    1  0.3  90.2          2     0    6.90       Spain   \n",
              "218      1        5    4    0  0.8  90.3        0.7     0    7.12     Croatia   \n",
              "219      1        0    1    0  0.5  91.0        0.5     1    6.95     Croatia   \n",
              "224      1        0    7    0  0.4  91.2        1.9     0    7.03      France   \n",
              "225      0        0    0    0  0.1  91.0        1.6     0    7.01      France   \n",
              "234      1        2    1    0  0.5  88.2        0.1     0    6.91       Spain   \n",
              "235      0        2    0    0    1  90.2          -     0    7.15       Spain   \n",
              "236      0        0    0    0    -  79.5        0.1     0    6.90     Germany   \n",
              "237      0        0    0    0    -  74.5        0.2     0    6.76     Germany   \n",
              "\n",
              "     FCB_goals  FCB_assists  \n",
              "169        9.0          2.0  \n",
              "173        0.0          0.0  \n",
              "194       34.0         12.0  \n",
              "195        6.0          2.0  \n",
              "198       25.0         12.0  \n",
              "199        1.0          3.0  \n",
              "209        1.0          4.0  \n",
              "210        0.0          0.0  \n",
              "211        2.0          8.0  \n",
              "212        0.0          0.0  \n",
              "213        2.0          0.0  \n",
              "214        1.0          0.0  \n",
              "218        1.0          5.0  \n",
              "219        1.0          0.0  \n",
              "224        1.0          0.0  \n",
              "225        0.0          0.0  \n",
              "234        1.0          2.0  \n",
              "235        0.0          2.0  \n",
              "236        0.0          0.0  \n",
              "237        0.0          0.0  "
            ],
            "text/html": [
              "\n",
              "  <div id=\"df-803d59df-d3a4-4e5b-be44-acba7decece1\">\n",
              "    <div class=\"colab-df-container\">\n",
              "      <div>\n",
              "<style scoped>\n",
              "    .dataframe tbody tr th:only-of-type {\n",
              "        vertical-align: middle;\n",
              "    }\n",
              "\n",
              "    .dataframe tbody tr th {\n",
              "        vertical-align: top;\n",
              "    }\n",
              "\n",
              "    .dataframe thead th {\n",
              "        text-align: right;\n",
              "    }\n",
              "</style>\n",
              "<table border=\"1\" class=\"dataframe\">\n",
              "  <thead>\n",
              "    <tr style=\"text-align: right;\">\n",
              "      <th></th>\n",
              "      <th>Unnamed: 0</th>\n",
              "      <th>Rank</th>\n",
              "      <th>player</th>\n",
              "      <th>club</th>\n",
              "      <th>age</th>\n",
              "      <th>Apps</th>\n",
              "      <th>Mins</th>\n",
              "      <th>Goals</th>\n",
              "      <th>Assists</th>\n",
              "      <th>Yel</th>\n",
              "      <th>Red</th>\n",
              "      <th>SpG</th>\n",
              "      <th>PS</th>\n",
              "      <th>AerialsWon</th>\n",
              "      <th>MotM</th>\n",
              "      <th>Rating</th>\n",
              "      <th>nationality</th>\n",
              "      <th>FCB_goals</th>\n",
              "      <th>FCB_assists</th>\n",
              "    </tr>\n",
              "  </thead>\n",
              "  <tbody>\n",
              "    <tr>\n",
              "      <th>169</th>\n",
              "      <td>331</td>\n",
              "      <td>99</td>\n",
              "      <td>Paulinho</td>\n",
              "      <td>Barcelona</td>\n",
              "      <td>29</td>\n",
              "      <td>21(13)</td>\n",
              "      <td>1941</td>\n",
              "      <td>9</td>\n",
              "      <td>2</td>\n",
              "      <td>2</td>\n",
              "      <td>0</td>\n",
              "      <td>1.3</td>\n",
              "      <td>87.8</td>\n",
              "      <td>0.9</td>\n",
              "      <td>0</td>\n",
              "      <td>6.87</td>\n",
              "      <td>Brazil</td>\n",
              "      <td>9.0</td>\n",
              "      <td>2.0</td>\n",
              "    </tr>\n",
              "    <tr>\n",
              "      <th>173</th>\n",
              "      <td>339</td>\n",
              "      <td>332</td>\n",
              "      <td>Paulinho</td>\n",
              "      <td>Barcelona</td>\n",
              "      <td>29</td>\n",
              "      <td>4(5)</td>\n",
              "      <td>402</td>\n",
              "      <td>0</td>\n",
              "      <td>0</td>\n",
              "      <td>1</td>\n",
              "      <td>0</td>\n",
              "      <td>1.3</td>\n",
              "      <td>92.2</td>\n",
              "      <td>0.7</td>\n",
              "      <td>0</td>\n",
              "      <td>6.50</td>\n",
              "      <td>Brazil</td>\n",
              "      <td>0.0</td>\n",
              "      <td>0.0</td>\n",
              "    </tr>\n",
              "    <tr>\n",
              "      <th>194</th>\n",
              "      <td>381</td>\n",
              "      <td>1</td>\n",
              "      <td>Lionel Messi</td>\n",
              "      <td>Barcelona</td>\n",
              "      <td>30</td>\n",
              "      <td>32(4)</td>\n",
              "      <td>2997</td>\n",
              "      <td>34</td>\n",
              "      <td>12</td>\n",
              "      <td>3</td>\n",
              "      <td>0</td>\n",
              "      <td>5.5</td>\n",
              "      <td>81.2</td>\n",
              "      <td>0.2</td>\n",
              "      <td>22</td>\n",
              "      <td>8.68</td>\n",
              "      <td>Argentina</td>\n",
              "      <td>34.0</td>\n",
              "      <td>12.0</td>\n",
              "    </tr>\n",
              "    <tr>\n",
              "      <th>195</th>\n",
              "      <td>382</td>\n",
              "      <td>6</td>\n",
              "      <td>Lionel Messi</td>\n",
              "      <td>Barcelona</td>\n",
              "      <td>30</td>\n",
              "      <td>8(2)</td>\n",
              "      <td>783</td>\n",
              "      <td>6</td>\n",
              "      <td>2</td>\n",
              "      <td>2</td>\n",
              "      <td>0</td>\n",
              "      <td>4.4</td>\n",
              "      <td>81.5</td>\n",
              "      <td>0.2</td>\n",
              "      <td>6</td>\n",
              "      <td>8.03</td>\n",
              "      <td>Argentina</td>\n",
              "      <td>6.0</td>\n",
              "      <td>2.0</td>\n",
              "    </tr>\n",
              "    <tr>\n",
              "      <th>198</th>\n",
              "      <td>385</td>\n",
              "      <td>3</td>\n",
              "      <td>Luis Suarez</td>\n",
              "      <td>Barcelona</td>\n",
              "      <td>31</td>\n",
              "      <td>32(1)</td>\n",
              "      <td>2902</td>\n",
              "      <td>25</td>\n",
              "      <td>12</td>\n",
              "      <td>9</td>\n",
              "      <td>0</td>\n",
              "      <td>3.7</td>\n",
              "      <td>76.9</td>\n",
              "      <td>0.4</td>\n",
              "      <td>5</td>\n",
              "      <td>7.72</td>\n",
              "      <td>Uruguay</td>\n",
              "      <td>25.0</td>\n",
              "      <td>12.0</td>\n",
              "    </tr>\n",
              "    <tr>\n",
              "      <th>199</th>\n",
              "      <td>386</td>\n",
              "      <td>203</td>\n",
              "      <td>Luis Suarez</td>\n",
              "      <td>Barcelona</td>\n",
              "      <td>31</td>\n",
              "      <td>10</td>\n",
              "      <td>884</td>\n",
              "      <td>1</td>\n",
              "      <td>3</td>\n",
              "      <td>2</td>\n",
              "      <td>0</td>\n",
              "      <td>3.2</td>\n",
              "      <td>72.6</td>\n",
              "      <td>0.5</td>\n",
              "      <td>0</td>\n",
              "      <td>6.80</td>\n",
              "      <td>Uruguay</td>\n",
              "      <td>1.0</td>\n",
              "      <td>3.0</td>\n",
              "    </tr>\n",
              "    <tr>\n",
              "      <th>209</th>\n",
              "      <td>402</td>\n",
              "      <td>16</td>\n",
              "      <td>Sergio Busquets</td>\n",
              "      <td>Barcelona</td>\n",
              "      <td>29</td>\n",
              "      <td>30(1)</td>\n",
              "      <td>2600</td>\n",
              "      <td>1</td>\n",
              "      <td>4</td>\n",
              "      <td>8</td>\n",
              "      <td>0</td>\n",
              "      <td>0.2</td>\n",
              "      <td>90.5</td>\n",
              "      <td>1.6</td>\n",
              "      <td>0</td>\n",
              "      <td>7.25</td>\n",
              "      <td>Spain</td>\n",
              "      <td>1.0</td>\n",
              "      <td>4.0</td>\n",
              "    </tr>\n",
              "    <tr>\n",
              "      <th>210</th>\n",
              "      <td>404</td>\n",
              "      <td>122</td>\n",
              "      <td>Sergio Busquets</td>\n",
              "      <td>Barcelona</td>\n",
              "      <td>29</td>\n",
              "      <td>9(1)</td>\n",
              "      <td>768</td>\n",
              "      <td>0</td>\n",
              "      <td>0</td>\n",
              "      <td>1</td>\n",
              "      <td>0</td>\n",
              "      <td>0.2</td>\n",
              "      <td>93.0</td>\n",
              "      <td>1.2</td>\n",
              "      <td>0</td>\n",
              "      <td>7.01</td>\n",
              "      <td>Spain</td>\n",
              "      <td>0.0</td>\n",
              "      <td>0.0</td>\n",
              "    </tr>\n",
              "    <tr>\n",
              "      <th>211</th>\n",
              "      <td>406</td>\n",
              "      <td>18</td>\n",
              "      <td>Jordi Alba</td>\n",
              "      <td>Barcelona</td>\n",
              "      <td>29</td>\n",
              "      <td>30(3)</td>\n",
              "      <td>2745</td>\n",
              "      <td>2</td>\n",
              "      <td>8</td>\n",
              "      <td>8</td>\n",
              "      <td>0</td>\n",
              "      <td>0.5</td>\n",
              "      <td>86.8</td>\n",
              "      <td>0.5</td>\n",
              "      <td>2</td>\n",
              "      <td>7.22</td>\n",
              "      <td>Spain</td>\n",
              "      <td>2.0</td>\n",
              "      <td>8.0</td>\n",
              "    </tr>\n",
              "    <tr>\n",
              "      <th>212</th>\n",
              "      <td>408</td>\n",
              "      <td>217</td>\n",
              "      <td>Jordi Alba</td>\n",
              "      <td>Barcelona</td>\n",
              "      <td>29</td>\n",
              "      <td>7(1)</td>\n",
              "      <td>638</td>\n",
              "      <td>0</td>\n",
              "      <td>0</td>\n",
              "      <td>0</td>\n",
              "      <td>0</td>\n",
              "      <td>0.1</td>\n",
              "      <td>87.9</td>\n",
              "      <td>0.3</td>\n",
              "      <td>0</td>\n",
              "      <td>6.78</td>\n",
              "      <td>Spain</td>\n",
              "      <td>0.0</td>\n",
              "      <td>0.0</td>\n",
              "    </tr>\n",
              "    <tr>\n",
              "      <th>213</th>\n",
              "      <td>410</td>\n",
              "      <td>25</td>\n",
              "      <td>Gerard Pique</td>\n",
              "      <td>Barcelona</td>\n",
              "      <td>31</td>\n",
              "      <td>29(1)</td>\n",
              "      <td>2633</td>\n",
              "      <td>2</td>\n",
              "      <td>0</td>\n",
              "      <td>9</td>\n",
              "      <td>0</td>\n",
              "      <td>0.6</td>\n",
              "      <td>89.4</td>\n",
              "      <td>2.2</td>\n",
              "      <td>0</td>\n",
              "      <td>7.16</td>\n",
              "      <td>Spain</td>\n",
              "      <td>2.0</td>\n",
              "      <td>0.0</td>\n",
              "    </tr>\n",
              "    <tr>\n",
              "      <th>214</th>\n",
              "      <td>412</td>\n",
              "      <td>166</td>\n",
              "      <td>Gerard Pique</td>\n",
              "      <td>Barcelona</td>\n",
              "      <td>31</td>\n",
              "      <td>9</td>\n",
              "      <td>736</td>\n",
              "      <td>1</td>\n",
              "      <td>0</td>\n",
              "      <td>2</td>\n",
              "      <td>1</td>\n",
              "      <td>0.3</td>\n",
              "      <td>90.2</td>\n",
              "      <td>2</td>\n",
              "      <td>0</td>\n",
              "      <td>6.90</td>\n",
              "      <td>Spain</td>\n",
              "      <td>1.0</td>\n",
              "      <td>0.0</td>\n",
              "    </tr>\n",
              "    <tr>\n",
              "      <th>218</th>\n",
              "      <td>420</td>\n",
              "      <td>34</td>\n",
              "      <td>Ivan Rakitic</td>\n",
              "      <td>Barcelona</td>\n",
              "      <td>30</td>\n",
              "      <td>31(4)</td>\n",
              "      <td>2839</td>\n",
              "      <td>1</td>\n",
              "      <td>5</td>\n",
              "      <td>4</td>\n",
              "      <td>0</td>\n",
              "      <td>0.8</td>\n",
              "      <td>90.3</td>\n",
              "      <td>0.7</td>\n",
              "      <td>0</td>\n",
              "      <td>7.12</td>\n",
              "      <td>Croatia</td>\n",
              "      <td>1.0</td>\n",
              "      <td>5.0</td>\n",
              "    </tr>\n",
              "    <tr>\n",
              "      <th>219</th>\n",
              "      <td>422</td>\n",
              "      <td>151</td>\n",
              "      <td>Ivan Rakitic</td>\n",
              "      <td>Barcelona</td>\n",
              "      <td>30</td>\n",
              "      <td>8(2)</td>\n",
              "      <td>758</td>\n",
              "      <td>1</td>\n",
              "      <td>0</td>\n",
              "      <td>1</td>\n",
              "      <td>0</td>\n",
              "      <td>0.5</td>\n",
              "      <td>91.0</td>\n",
              "      <td>0.5</td>\n",
              "      <td>1</td>\n",
              "      <td>6.95</td>\n",
              "      <td>Croatia</td>\n",
              "      <td>1.0</td>\n",
              "      <td>0.0</td>\n",
              "    </tr>\n",
              "    <tr>\n",
              "      <th>224</th>\n",
              "      <td>432</td>\n",
              "      <td>49</td>\n",
              "      <td>Samuel Umtiti</td>\n",
              "      <td>Barcelona</td>\n",
              "      <td>24</td>\n",
              "      <td>24(1)</td>\n",
              "      <td>2189</td>\n",
              "      <td>1</td>\n",
              "      <td>0</td>\n",
              "      <td>7</td>\n",
              "      <td>0</td>\n",
              "      <td>0.4</td>\n",
              "      <td>91.2</td>\n",
              "      <td>1.9</td>\n",
              "      <td>0</td>\n",
              "      <td>7.03</td>\n",
              "      <td>France</td>\n",
              "      <td>1.0</td>\n",
              "      <td>0.0</td>\n",
              "    </tr>\n",
              "    <tr>\n",
              "      <th>225</th>\n",
              "      <td>434</td>\n",
              "      <td>129</td>\n",
              "      <td>Samuel Umtiti</td>\n",
              "      <td>Barcelona</td>\n",
              "      <td>24</td>\n",
              "      <td>9</td>\n",
              "      <td>810</td>\n",
              "      <td>0</td>\n",
              "      <td>0</td>\n",
              "      <td>0</td>\n",
              "      <td>0</td>\n",
              "      <td>0.1</td>\n",
              "      <td>91.0</td>\n",
              "      <td>1.6</td>\n",
              "      <td>0</td>\n",
              "      <td>7.01</td>\n",
              "      <td>France</td>\n",
              "      <td>0.0</td>\n",
              "      <td>0.0</td>\n",
              "    </tr>\n",
              "    <tr>\n",
              "      <th>234</th>\n",
              "      <td>452</td>\n",
              "      <td>87</td>\n",
              "      <td>Andres Iniesta</td>\n",
              "      <td>Barcelona</td>\n",
              "      <td>34</td>\n",
              "      <td>25(5)</td>\n",
              "      <td>1843</td>\n",
              "      <td>1</td>\n",
              "      <td>2</td>\n",
              "      <td>1</td>\n",
              "      <td>0</td>\n",
              "      <td>0.5</td>\n",
              "      <td>88.2</td>\n",
              "      <td>0.1</td>\n",
              "      <td>0</td>\n",
              "      <td>6.91</td>\n",
              "      <td>Spain</td>\n",
              "      <td>1.0</td>\n",
              "      <td>2.0</td>\n",
              "    </tr>\n",
              "    <tr>\n",
              "      <th>235</th>\n",
              "      <td>454</td>\n",
              "      <td>73</td>\n",
              "      <td>Andres Iniesta</td>\n",
              "      <td>Barcelona</td>\n",
              "      <td>34</td>\n",
              "      <td>8</td>\n",
              "      <td>624</td>\n",
              "      <td>0</td>\n",
              "      <td>2</td>\n",
              "      <td>0</td>\n",
              "      <td>0</td>\n",
              "      <td>1</td>\n",
              "      <td>90.2</td>\n",
              "      <td>-</td>\n",
              "      <td>0</td>\n",
              "      <td>7.15</td>\n",
              "      <td>Spain</td>\n",
              "      <td>0.0</td>\n",
              "      <td>2.0</td>\n",
              "    </tr>\n",
              "    <tr>\n",
              "      <th>236</th>\n",
              "      <td>456</td>\n",
              "      <td>89</td>\n",
              "      <td>Marc-Andre ter Stegen</td>\n",
              "      <td>Barcelona</td>\n",
              "      <td>26</td>\n",
              "      <td>37</td>\n",
              "      <td>3330</td>\n",
              "      <td>0</td>\n",
              "      <td>0</td>\n",
              "      <td>0</td>\n",
              "      <td>0</td>\n",
              "      <td>-</td>\n",
              "      <td>79.5</td>\n",
              "      <td>0.1</td>\n",
              "      <td>0</td>\n",
              "      <td>6.90</td>\n",
              "      <td>Germany</td>\n",
              "      <td>0.0</td>\n",
              "      <td>0.0</td>\n",
              "    </tr>\n",
              "    <tr>\n",
              "      <th>237</th>\n",
              "      <td>458</td>\n",
              "      <td>225</td>\n",
              "      <td>Marc-Andre ter Stegen</td>\n",
              "      <td>Barcelona</td>\n",
              "      <td>26</td>\n",
              "      <td>9</td>\n",
              "      <td>810</td>\n",
              "      <td>0</td>\n",
              "      <td>0</td>\n",
              "      <td>0</td>\n",
              "      <td>0</td>\n",
              "      <td>-</td>\n",
              "      <td>74.5</td>\n",
              "      <td>0.2</td>\n",
              "      <td>0</td>\n",
              "      <td>6.76</td>\n",
              "      <td>Germany</td>\n",
              "      <td>0.0</td>\n",
              "      <td>0.0</td>\n",
              "    </tr>\n",
              "  </tbody>\n",
              "</table>\n",
              "</div>\n",
              "      <button class=\"colab-df-convert\" onclick=\"convertToInteractive('df-803d59df-d3a4-4e5b-be44-acba7decece1')\"\n",
              "              title=\"Convert this dataframe to an interactive table.\"\n",
              "              style=\"display:none;\">\n",
              "        \n",
              "  <svg xmlns=\"http://www.w3.org/2000/svg\" height=\"24px\"viewBox=\"0 0 24 24\"\n",
              "       width=\"24px\">\n",
              "    <path d=\"M0 0h24v24H0V0z\" fill=\"none\"/>\n",
              "    <path d=\"M18.56 5.44l.94 2.06.94-2.06 2.06-.94-2.06-.94-.94-2.06-.94 2.06-2.06.94zm-11 1L8.5 8.5l.94-2.06 2.06-.94-2.06-.94L8.5 2.5l-.94 2.06-2.06.94zm10 10l.94 2.06.94-2.06 2.06-.94-2.06-.94-.94-2.06-.94 2.06-2.06.94z\"/><path d=\"M17.41 7.96l-1.37-1.37c-.4-.4-.92-.59-1.43-.59-.52 0-1.04.2-1.43.59L10.3 9.45l-7.72 7.72c-.78.78-.78 2.05 0 2.83L4 21.41c.39.39.9.59 1.41.59.51 0 1.02-.2 1.41-.59l7.78-7.78 2.81-2.81c.8-.78.8-2.07 0-2.86zM5.41 20L4 18.59l7.72-7.72 1.47 1.35L5.41 20z\"/>\n",
              "  </svg>\n",
              "      </button>\n",
              "      \n",
              "  <style>\n",
              "    .colab-df-container {\n",
              "      display:flex;\n",
              "      flex-wrap:wrap;\n",
              "      gap: 12px;\n",
              "    }\n",
              "\n",
              "    .colab-df-convert {\n",
              "      background-color: #E8F0FE;\n",
              "      border: none;\n",
              "      border-radius: 50%;\n",
              "      cursor: pointer;\n",
              "      display: none;\n",
              "      fill: #1967D2;\n",
              "      height: 32px;\n",
              "      padding: 0 0 0 0;\n",
              "      width: 32px;\n",
              "    }\n",
              "\n",
              "    .colab-df-convert:hover {\n",
              "      background-color: #E2EBFA;\n",
              "      box-shadow: 0px 1px 2px rgba(60, 64, 67, 0.3), 0px 1px 3px 1px rgba(60, 64, 67, 0.15);\n",
              "      fill: #174EA6;\n",
              "    }\n",
              "\n",
              "    [theme=dark] .colab-df-convert {\n",
              "      background-color: #3B4455;\n",
              "      fill: #D2E3FC;\n",
              "    }\n",
              "\n",
              "    [theme=dark] .colab-df-convert:hover {\n",
              "      background-color: #434B5C;\n",
              "      box-shadow: 0px 1px 3px 1px rgba(0, 0, 0, 0.15);\n",
              "      filter: drop-shadow(0px 1px 2px rgba(0, 0, 0, 0.3));\n",
              "      fill: #FFFFFF;\n",
              "    }\n",
              "  </style>\n",
              "\n",
              "      <script>\n",
              "        const buttonEl =\n",
              "          document.querySelector('#df-803d59df-d3a4-4e5b-be44-acba7decece1 button.colab-df-convert');\n",
              "        buttonEl.style.display =\n",
              "          google.colab.kernel.accessAllowed ? 'block' : 'none';\n",
              "\n",
              "        async function convertToInteractive(key) {\n",
              "          const element = document.querySelector('#df-803d59df-d3a4-4e5b-be44-acba7decece1');\n",
              "          const dataTable =\n",
              "            await google.colab.kernel.invokeFunction('convertToInteractive',\n",
              "                                                     [key], {});\n",
              "          if (!dataTable) return;\n",
              "\n",
              "          const docLinkHtml = 'Like what you see? Visit the ' +\n",
              "            '<a target=\"_blank\" href=https://colab.research.google.com/notebooks/data_table.ipynb>data table notebook</a>'\n",
              "            + ' to learn more about interactive tables.';\n",
              "          element.innerHTML = '';\n",
              "          dataTable['output_type'] = 'display_data';\n",
              "          await google.colab.output.renderOutput(dataTable, element);\n",
              "          const docLink = document.createElement('div');\n",
              "          docLink.innerHTML = docLinkHtml;\n",
              "          element.appendChild(docLink);\n",
              "        }\n",
              "      </script>\n",
              "    </div>\n",
              "  </div>\n",
              "  "
            ]
          },
          "metadata": {},
          "execution_count": 16
        }
      ]
    },
    {
      "cell_type": "markdown",
      "source": [
        "The above dataset is load using str.contains Barcelona and ready to plot the scatter plot graph."
      ],
      "metadata": {
        "id": "OL4hdSO0_cp8"
      }
    },
    {
      "cell_type": "code",
      "source": [
        "sns.relplot(data = df, x = 'Goals', y = 'Assists', color = 'green', style = 'FCB_goals', size = 'FCB_assists')\n",
        "\n",
        "plt.title('A scatterplot of goals vs assist')"
      ],
      "metadata": {
        "colab": {
          "base_uri": "https://localhost:8080/",
          "height": 402
        },
        "id": "E6UMzV5u6V_9",
        "outputId": "26b347a5-0087-478d-ea25-66a2bb2a1dec"
      },
      "execution_count": 21,
      "outputs": [
        {
          "output_type": "execute_result",
          "data": {
            "text/plain": [
              "Text(0.5, 1.0, 'A scatterplot of goals vs assist')"
            ]
          },
          "metadata": {},
          "execution_count": 21
        },
        {
          "output_type": "display_data",
          "data": {
            "text/plain": [
              "<Figure size 434.375x360 with 1 Axes>"
            ],
            "image/png": "[encoded data removed]"
          },
          "metadata": {
            "needs_background": "light"
          }
        }
      ]
    },
    {
      "cell_type": "markdown",
      "source": [
        "The above dataset is the scatter plot of goals and assists of the Football club Barcelona."
      ],
      "metadata": {
        "id": "P2zMYJJf_tr3"
      }
    },
    {
      "cell_type": "markdown",
      "source": [
        "h) (10 points) Create stacked barplot of goals and assists of French National Team. (they won this tourney!) Be sure\n",
        "to comment on why it is appropriate to stack goals and assists.\n"
      ],
      "metadata": {
        "id": "e9AL9PJBLg7-"
      }
    },
    {
      "cell_type": "code",
      "source": [
        "df3 = df[df['nationality'].str.contains('France')]"
      ],
      "metadata": {
        "id": "tzp39QtSLjtO"
      },
      "execution_count": 22,
      "outputs": []
    },
    {
      "cell_type": "code",
      "source": [
        "ax = df3[['Goals', 'Assists']].plot(kind = 'bar', stacked = True,figsize=(15, 10) , title = 'Stacked barplot of golas and assist of French National Team')\n",
        "ax.set_xlabel('Goals')\n",
        "ax.set_ylabel('Assists')"
      ],
      "metadata": {
        "colab": {
          "base_uri": "https://localhost:8080/",
          "height": 648
        },
        "id": "GzLcfWZU6694",
        "outputId": "f3700b75-73ea-4cba-aed4-d34b80752950"
      },
      "execution_count": 23,
      "outputs": [
        {
          "output_type": "execute_result",
          "data": {
            "text/plain": [
              "Text(0, 0.5, 'Assists')"
            ]
          },
          "metadata": {},
          "execution_count": 23
        },
        {
          "output_type": "display_data",
          "data": {
            "text/plain": [
              "<Figure size 1080x720 with 1 Axes>"
            ],
            "image/png": "[encoded data removed]"
          },
          "metadata": {
            "needs_background": "light"
          }
        }
      ]
    },
    {
      "cell_type": "markdown",
      "source": [
        "The above dataset is the  stacked barplot of goals and assists of France nationality where new dataframe is used and created."
      ],
      "metadata": {
        "id": "yZC-yo3z_9pM"
      }
    },
    {
      "cell_type": "markdown",
      "source": [
        "(i) (10 points) Create a correlation heatmap of the entire dataset."
      ],
      "metadata": {
        "id": "koEpINV4LmBu"
      }
    },
    {
      "cell_type": "code",
      "source": [
        "sns.set(rc = {'figure.figsize':(10,5)})\n",
        "ax = sns.heatmap(df.corr(),vmin = -1, annot=False)\n",
        "ax.set(title = 'Heatmap of Entire Dataset')\n",
        "plt.show()"
      ],
      "metadata": {
        "id": "JhxMKsXLLnKg",
        "colab": {
          "base_uri": "https://localhost:8080/",
          "height": 396
        },
        "outputId": "99c106c6-1836-4b01-8c62-b96a702961a8"
      },
      "execution_count": 27,
      "outputs": [
        {
          "output_type": "display_data",
          "data": {
            "text/plain": [
              "<Figure size 720x360 with 2 Axes>"
            ],
            "image/png": "[encoded data removed]"
          },
          "metadata": {}
        }
      ]
    },
    {
      "cell_type": "markdown",
      "source": [
        "The above dataset is the correlation heatmap of entire dataset using seaborn library. Goals and assists have correlation. Man of the match (MotM) and goals have some correlations as well."
      ],
      "metadata": {
        "id": "6eH4PpnvAQJb"
      }
    },
    {
      "cell_type": "markdown",
      "source": [
        "##2. (10 points) Questions about the exam:"
      ],
      "metadata": {
        "id": "zjNjrv9PLn0B"
      }
    },
    {
      "cell_type": "markdown",
      "source": [
        "a) Approximately how long did you work on this exam?\n",
        "\n",
        "    I worked about 8 hours on this exam with the break."
      ],
      "metadata": {
        "id": "KKYmjjEWLv-m"
      }
    },
    {
      "cell_type": "markdown",
      "source": [
        "b) Which was the hardest and easiest topic from this section?\n",
        "   \n",
        "    The hardest topic was g (goals and assist of favorite club on the scatterplot) and the easiest topic was c (create histogra, of the goals)."
      ],
      "metadata": {
        "id": "dENsorRXLz_r"
      }
    },
    {
      "cell_type": "markdown",
      "source": [
        "c) Which method of visualization are you still unclear what it might show?\n",
        "\n",
        "    I am still unclear on the scatterplot where question number g we plot the data using scatterplot for goal vs assists."
      ],
      "metadata": {
        "id": "0rsIqZImL3VQ"
      }
    },
    {
      "cell_type": "markdown",
      "source": [
        "##References:\n",
        "\n",
        "“I attest that the resources above were the only ones utilized in completing\n",
        "the exam and the work included is my own and no one else from the course.”\n",
        "\n",
        "Bishal Budhathoki.\n"
      ],
      "metadata": {
        "id": "6qtQupJwOT5I"
      }
    }
  ]
}