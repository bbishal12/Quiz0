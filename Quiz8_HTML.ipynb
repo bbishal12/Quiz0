{
  "nbformat": 4,
  "nbformat_minor": 0,
  "metadata": {
    "colab": {
      "name": "Quiz8 HTML.ipynb",
      "provenance": [],
      "collapsed_sections": [],
      "authorship_tag": "ABX9TyMRjVH/zqNacSIlZYgrjCp1",
      "include_colab_link": true
    },
    "kernelspec": {
      "name": "python3",
      "display_name": "Python 3"
    },
    "language_info": {
      "name": "python"
    }
  },
  "cells": [
    {
      "cell_type": "markdown",
      "metadata": {
        "id": "view-in-github",
        "colab_type": "text"
      },
      "source": [
        "<a href=\"https://colab.research.google.com/github/bbishal12/Quiz0/blob/main/Quiz8_HTML.ipynb\" target=\"_parent\"><img src=\"https://colab.research.google.com/assets/colab-badge.svg\" alt=\"Open In Colab\"/></a>"
      ]
    },
    {
      "cell_type": "markdown",
      "source": [
        "#Data Visualization\n",
        "##Bishal Budhathoki\n",
        "##Quiz 8 : HTML Web"
      ],
      "metadata": {
        "id": "64lcvWaS2wlc"
      }
    },
    {
      "cell_type": "markdown",
      "source": [
        "Navigate the wikipedia page for your favorite television show or sports club.\n",
        "\n",
        "Display the title for the page\n",
        "Within an interesting table, retrieve all links and store them in a list"
      ],
      "metadata": {
        "id": "S8G3XqCZ4fjv"
      }
    },
    {
      "cell_type": "markdown",
      "source": [
        "I am going to choose Family guy an American adult animated sitcom to display the title for the page and retrieve all links to store them in a list. Here is the wikipedia link: https://en.wikipedia.org/wiki/Family_Guy"
      ],
      "metadata": {
        "id": "0Inq-gSJ4s5q"
      }
    },
    {
      "cell_type": "markdown",
      "source": [
        "First of all, importing packages to read and phrase my data gathered from web scrapping. I will use the request and BeautifulSoup to do that."
      ],
      "metadata": {
        "id": "kba8JiZj5mOE"
      }
    },
    {
      "cell_type": "code",
      "source": [
        "import requests\n",
        "import pandas as pd\n",
        "from bs4 import BeautifulSoup"
      ],
      "metadata": {
        "id": "wzoHyJXx2-0b"
      },
      "execution_count": 1,
      "outputs": []
    },
    {
      "cell_type": "code",
      "source": [
        "r = requests.get('https://en.wikipedia.org/wiki/Family_Guy') #getting raw data direct from the wikipedia link\n",
        "html_contents = r.text\n",
        "html_soup = BeautifulSoup(html_contents,\"lxml\")\n",
        "#html_soup"
      ],
      "metadata": {
        "id": "knE7eJSy5vNf"
      },
      "execution_count": 2,
      "outputs": []
    },
    {
      "cell_type": "markdown",
      "source": [
        "The html_soup is very huge soup."
      ],
      "metadata": {
        "id": "gvzRb8ms563M"
      }
    },
    {
      "cell_type": "markdown",
      "source": [
        "#Display the Title"
      ],
      "metadata": {
        "id": "_1T18crh7TeZ"
      }
    },
    {
      "cell_type": "code",
      "source": [
        "html_soup.title"
      ],
      "metadata": {
        "colab": {
          "base_uri": "https://localhost:8080/"
        },
        "id": "PjLIMfht7YeZ",
        "outputId": "eebb431b-2d9c-4a70-cc70-09e0c8fa0185"
      },
      "execution_count": 3,
      "outputs": [
        {
          "output_type": "execute_result",
          "data": {
            "text/plain": [
              "<title>Family Guy - Wikipedia</title>"
            ]
          },
          "metadata": {},
          "execution_count": 3
        }
      ]
    },
    {
      "cell_type": "markdown",
      "source": [
        "#Within an interesting table, retrieve all links and store them in a list"
      ],
      "metadata": {
        "id": "jGTb1UA77fYs"
      }
    },
    {
      "cell_type": "code",
      "source": [
        "html_soup.table.findAll('a')"
      ],
      "metadata": {
        "colab": {
          "base_uri": "https://localhost:8080/"
        },
        "id": "iMLyN9eL9fMY",
        "outputId": "85e67d2a-b66e-43e4-86f7-f256c341e839"
      },
      "execution_count": 4,
      "outputs": [
        {
          "output_type": "execute_result",
          "data": {
            "text/plain": [
              "[<a class=\"image\" href=\"/wiki/File:Family_Guy_Logo.svg\"><img alt=\"Family Guy Logo.svg\" data-file-height=\"200\" data-file-width=\"335\" decoding=\"async\" height=\"149\" src=\"//upload.wikimedia.org/wikipedia/en/thumb/a/aa/Family_Guy_Logo.svg/250px-Family_Guy_Logo.svg.png\" srcset=\"//upload.wikimedia.org/wikipedia/en/thumb/a/aa/Family_Guy_Logo.svg/375px-Family_Guy_Logo.svg.png 1.5x, //upload.wikimedia.org/wikipedia/en/thumb/a/aa/Family_Guy_Logo.svg/500px-Family_Guy_Logo.svg.png 2x\" width=\"250\"/></a>,\n",
              " <a href=\"/wiki/Animated_sitcom\" title=\"Animated sitcom\">Animated sitcom</a>,\n",
              " <a href=\"#cite_note-1\">[1]</a>,\n",
              " <a href=\"/wiki/Satire\" title=\"Satire\">Satire</a>,\n",
              " <a href=\"/wiki/Seth_MacFarlane\" title=\"Seth MacFarlane\">Seth MacFarlane</a>,\n",
              " <a href=\"/wiki/David_Zuckerman_(TV_producer)\" title=\"David Zuckerman (TV producer)\">David Zuckerman</a>,\n",
              " <a href=\"/wiki/Alex_Borstein\" title=\"Alex Borstein\">Alex Borstein</a>,\n",
              " <a href=\"/wiki/Seth_Green\" title=\"Seth Green\">Seth Green</a>,\n",
              " <a href=\"/wiki/Mila_Kunis\" title=\"Mila Kunis\">Mila Kunis</a>,\n",
              " <a href=\"/wiki/Mike_Henry_(voice_actor)\" title=\"Mike Henry (voice actor)\">Mike Henry</a>,\n",
              " <a href=\"/wiki/Arif_Zahir\" title=\"Arif Zahir\">Arif Zahir</a>,\n",
              " <a href=\"/wiki/Patrick_Warburton\" title=\"Patrick Warburton\">Patrick Warburton</a>,\n",
              " <a href=\"/wiki/Walter_Murphy\" title=\"Walter Murphy\">Walter Murphy</a>,\n",
              " <a href=\"/wiki/Ron_Jones_(composer)\" title=\"Ron Jones (composer)\">Ron Jones</a>,\n",
              " <a href=\"/wiki/Walter_Murphy\" title=\"Walter Murphy\">Walter Murphy</a>,\n",
              " <a href=\"/wiki/List_of_Family_Guy_episodes\" title=\"List of Family Guy episodes\">list of episodes</a>,\n",
              " <a href=\"/wiki/Daniel_Palladino\" title=\"Daniel Palladino\">Daniel Palladino</a>,\n",
              " <a href=\"/wiki/David_A._Goodman\" title=\"David A. Goodman\">David A. Goodman</a>,\n",
              " <a href=\"/wiki/Chris_Sheridan_(writer)\" title=\"Chris Sheridan (writer)\">Chris Sheridan</a>,\n",
              " <a href=\"/wiki/Danny_Smith_(writer)\" title=\"Danny Smith (writer)\">Danny Smith</a>,\n",
              " <a href=\"/wiki/Mark_Hentemann\" title=\"Mark Hentemann\">Mark Hentemann</a>,\n",
              " <a href=\"/wiki/Steve_Callaghan\" title=\"Steve Callaghan\">Steve Callaghan</a>,\n",
              " <a href=\"/wiki/Alec_Sulkin\" title=\"Alec Sulkin\">Alec Sulkin</a>,\n",
              " <a href=\"/wiki/Wellesley_Wild\" title=\"Wellesley Wild\">Wellesley Wild</a>,\n",
              " <a href=\"/wiki/Cherry_Chevapravatdumrong\" title=\"Cherry Chevapravatdumrong\">Cherry Chevapravatdumrong</a>,\n",
              " <a href=\"/wiki/Richard_Appel\" title=\"Richard Appel\">Richard Appel</a>,\n",
              " <a href=\"/wiki/Kara_Vallow\" title=\"Kara Vallow\">Kara Vallow</a>,\n",
              " <a href=\"/wiki/Steve_Marmel\" title=\"Steve Marmel\">Steve Marmel</a>,\n",
              " <a href=\"/wiki/Sherry_Gunther\" title=\"Sherry Gunther\">Sherry Gunther</a>,\n",
              " <a href=\"/wiki/Fuzzy_Door_Productions\" title=\"Fuzzy Door Productions\">Fuzzy Door Productions</a>,\n",
              " <a href=\"/wiki/20th_Television\" title=\"20th Television\">20th Television</a>,\n",
              " <a href=\"#cite_note-2\">[a]</a>,\n",
              " <a href=\"/wiki/20th_Television_Animation\" title=\"20th Television Animation\">20th Television Animation</a>,\n",
              " <a href=\"#cite_note-3\">[b]</a>,\n",
              " <a href=\"/wiki/Fox_Broadcasting_Company\" title=\"Fox Broadcasting Company\">Fox</a>,\n",
              " <a href=\"#cite_note-4\">[N 1]</a>,\n",
              " <a href=\"/wiki/NTSC\" title=\"NTSC\">NTSC</a>,\n",
              " <a class=\"mw-redirect\" href=\"/wiki/HDTV\" title=\"HDTV\">HDTV</a>,\n",
              " <a href=\"/wiki/720p\" title=\"720p\">720p</a>,\n",
              " <a href=\"/wiki/Dolby_Pro_Logic\" title=\"Dolby Pro Logic\">Dolby Surround</a>,\n",
              " <a href=\"/wiki/Dolby_Digital\" title=\"Dolby Digital\">Dolby Digital</a>,\n",
              " <a href=\"/wiki/The_Life_of_Larry_and_Larry_%26_Steve\" title=\"The Life of Larry and Larry &amp; Steve\"><i>The Life of Larry</i> and <i>Larry &amp; Steve</i></a>,\n",
              " <a href=\"/wiki/The_Cleveland_Show\" title=\"The Cleveland Show\">The Cleveland Show</a>,\n",
              " <a href=\"/wiki/American_Dad!\" title=\"American Dad!\">American Dad!</a>,\n",
              " <a class=\"external text\" href=\"http://www.fox.com/familyguy/\" rel=\"nofollow\">Official website</a>]"
            ]
          },
          "metadata": {},
          "execution_count": 4
        }
      ]
    },
    {
      "cell_type": "markdown",
      "source": [
        "These are the lists of all the links retrived from wikipedia."
      ],
      "metadata": {
        "id": "Vn6uJx0aAapp"
      }
    },
    {
      "cell_type": "markdown",
      "source": [
        "#Table Form"
      ],
      "metadata": {
        "id": "6QpL7D7dAdU1"
      }
    },
    {
      "cell_type": "code",
      "source": [
        "from tabulate import tabulate\n",
        "table = html_soup.find_all(class_ = 'infobox vevent')[0] \n",
        "df = pd.read_html(str(table))\n",
        "print( tabulate(df[0], headers='keys', tablefmt='psql') )"
      ],
      "metadata": {
        "colab": {
          "base_uri": "https://localhost:8080/"
        },
        "id": "fAQa7ZTQAfK2",
        "outputId": "55b1ba59-c7cc-46b1-cee3-548227030ae6"
      },
      "execution_count": 5,
      "outputs": [
        {
          "output_type": "stream",
          "name": "stdout",
          "text": [
            "+----+----------------------+--------------------------------------------------------------------------------------------------------------------------------------------------------------------------------------------------------------------------------------------------------------------------------------------------------+\n",
            "|    | Family Guy           | Family Guy.1                                                                                                                                                                                                                                                                                           |\n",
            "|----+----------------------+--------------------------------------------------------------------------------------------------------------------------------------------------------------------------------------------------------------------------------------------------------------------------------------------------------|\n",
            "|  0 | nan                  | nan                                                                                                                                                                                                                                                                                                    |\n",
            "|  1 | Genre                | Animated sitcom[1] Satire                                                                                                                                                                                                                                                                              |\n",
            "|  2 | Created by           | Seth MacFarlane                                                                                                                                                                                                                                                                                        |\n",
            "|  3 | Developed by         | Seth MacFarlane David Zuckerman                                                                                                                                                                                                                                                                        |\n",
            "|  4 | Voices of            | Seth MacFarlane Alex Borstein Seth Green Mila Kunis Mike Henry Arif Zahir Patrick Warburton                                                                                                                                                                                                            |\n",
            "|  5 | Theme music composer | Walter Murphy                                                                                                                                                                                                                                                                                          |\n",
            "|  6 | Composers            | Ron Jones Walter Murphy                                                                                                                                                                                                                                                                                |\n",
            "|  7 | Country of origin    | United States                                                                                                                                                                                                                                                                                          |\n",
            "|  8 | Original language    | English                                                                                                                                                                                                                                                                                                |\n",
            "|  9 | No. of seasons       | 20                                                                                                                                                                                                                                                                                                     |\n",
            "| 10 | No. of episodes      | 380 (list of episodes)                                                                                                                                                                                                                                                                                 |\n",
            "| 11 | Production           | Production                                                                                                                                                                                                                                                                                             |\n",
            "| 12 | Executive producers  | Seth MacFarlane David Zuckerman (1999–2003) Daniel Palladino (2001–02) David A. Goodman (2005–12) Chris Sheridan (2005–12) Danny Smith (2008–) Mark Hentemann (2009–15) Steve Callaghan (2009–) Alec Sulkin (2011–) Wellesley Wild (2011–15) Cherry Chevapravatdumrong (2012–19) Richard Appel (2012–) |\n",
            "| 13 | Producers            | Shannon Smith Julius Sharpe Kara Vallow Steve Marmel (2011) Sherry Gunther (1999–2003)                                                                                                                                                                                                                 |\n",
            "| 14 | Running time         | 20–24 minutes 45 minutes (select episodes)                                                                                                                                                                                                                                                             |\n",
            "| 15 | Production companies | Fuzzy Door Productions 20th Television[a] (Seasons 1–19) 20th Television Animation[b] (Seasons 20–)                                                                                                                                                                                                    |\n",
            "| 16 | Distributor          | 20th Television                                                                                                                                                                                                                                                                                        |\n",
            "| 17 | Release              | Release                                                                                                                                                                                                                                                                                                |\n",
            "| 18 | Original network     | Fox[N 1]                                                                                                                                                                                                                                                                                               |\n",
            "| 19 | Picture format       | NTSC (S1–8) HDTV 720p (S9–)                                                                                                                                                                                                                                                                            |\n",
            "| 20 | Audio format         | Dolby Surround 2.0 (broadcast S1–8) Dolby Digital 5.1 (S9–)                                                                                                                                                                                                                                            |\n",
            "| 21 | Original release     | January 31, 1999present                                                                                                                                                                                                                                                                                |\n",
            "| 22 | Chronology           | Chronology                                                                                                                                                                                                                                                                                             |\n",
            "| 23 | Preceded by          | The Life of Larry and Larry & Steve                                                                                                                                                                                                                                                                    |\n",
            "| 24 | Related shows        | The Cleveland ShowAmerican Dad!                                                                                                                                                                                                                                                                        |\n",
            "| 25 | External links       | External links                                                                                                                                                                                                                                                                                         |\n",
            "| 26 | Official website     | Official website                                                                                                                                                                                                                                                                                       |\n",
            "+----+----------------------+--------------------------------------------------------------------------------------------------------------------------------------------------------------------------------------------------------------------------------------------------------------------------------------------------------+\n"
          ]
        }
      ]
    },
    {
      "cell_type": "code",
      "source": [
        "table = html_soup.find_all(class_ = 'wikitable plainrowheaders')[0]\n",
        "dataFrame = pd.read_html(str(table))\n",
        "print( tabulate(dataFrame[0], headers='keys', tablefmt='psql') )"
      ],
      "metadata": {
        "colab": {
          "base_uri": "https://localhost:8080/"
        },
        "id": "SsM4cg8tAl9y",
        "outputId": "fbaa3f1f-d3b4-49a5-f55e-91ece4e8b662"
      },
      "execution_count": 6,
      "outputs": [
        {
          "output_type": "stream",
          "name": "stdout",
          "text": [
            "+----+------------------------+--------------------------+----------------------------+------------------------------+---------------------------------------+--------------------------------------+--------------------+----------------------------------------------------+\n",
            "|    |   ('Season', 'Season') |   ('Season', 'Season.1') | ('Episodes', 'Episodes')   | ('Episodes', 'Episodes.1')   | ('Originally aired', 'First aired')   | ('Originally aired', 'Last aired')   | ('Rank', 'Rank')   | ('Viewers(in millions)', 'Viewers(in millions)')   |\n",
            "|----+------------------------+--------------------------+----------------------------+------------------------------+---------------------------------------+--------------------------------------+--------------------+----------------------------------------------------|\n",
            "|  0 |                    nan |                        1 | 7                          | 7                            | January 31, 1999                      | May 16, 1999                         | 33                 | 12.80[22]                                          |\n",
            "|  1 |                    nan |                        2 | 21                         | 21                           | September 23, 1999                    | August 1, 2000                       | 114                | 6.32[citation needed]                              |\n",
            "|  2 |                    nan |                        3 | 22                         | 22                           | July 11, 2001                         | November 9, 2003[c]                  | 125                | 4.50[23]                                           |\n",
            "|  3 |                    nan |                        4 | 30                         | 30                           | May 1, 2005                           | May 21, 2006                         | 68                 | 7.90[24]                                           |\n",
            "|  4 |                    nan |                        5 | 18                         | 18                           | September 10, 2006                    | May 20, 2007                         | 71                 | 7.20[25]                                           |\n",
            "|  5 |                    nan |                        6 | 12                         | 12                           | September 23, 2007                    | May 4, 2008                          | 84                 | 7.94[26]                                           |\n",
            "|  6 |                    nan |                        7 | 16                         | 16                           | September 28, 2008                    | May 17, 2009                         | 69                 | 7.56[27]                                           |\n",
            "|  7 |                    nan |                        8 | 21                         | 21                           | September 27, 2009                    | June 20, 2010[d]                     | 53                 | 7.73[28]                                           |\n",
            "|  8 |                    nan |                        9 | 18                         | 18                           | September 26, 2010                    | May 22, 2011                         | 56                 | 7.66[29]                                           |\n",
            "|  9 |                    nan |                       10 | 23                         | 23                           | September 25, 2011                    | May 20, 2012                         | 63                 | 7.30[30]                                           |\n",
            "| 10 |                    nan |                       11 | 22                         | 22                           | September 30, 2012                    | May 19, 2013                         | 62                 | 6.94[31]                                           |\n",
            "| 11 |                    nan |                       12 | 21                         | 21                           | September 29, 2013                    | May 18, 2014                         | 78                 | 6.11[32]                                           |\n",
            "| 12 |                    nan |                       13 | 18                         | 18                           | September 28, 2014                    | May 17, 2015                         | 94                 | 5.86[33]                                           |\n",
            "| 13 |                    nan |                       14 | 20                         | 20                           | September 27, 2015                    | May 22, 2016                         | 111                | 4.28[34]                                           |\n",
            "| 14 |                    nan |                       15 | 20                         | 20                           | September 25, 2016                    | May 21, 2017                         | 116                | 3.93[35]                                           |\n",
            "| 15 |                    nan |                       16 | 20                         | 20                           | October 1, 2017                       | May 20, 2018                         | 136                | 3.52[36]                                           |\n",
            "| 16 |                    nan |                       17 | 20                         | 20                           | September 30, 2018                    | May 12, 2019                         | 131                | 3.33[37]                                           |\n",
            "| 17 |                    nan |                       18 | 20                         | 20                           | September 29, 2019                    | May 17, 2020                         | 107[38]            | 2.65[38]                                           |\n",
            "| 18 |                    nan |                       19 | 20                         | 20                           | September 27, 2020                    | May 16, 2021                         | 120[39]            | 2.19[39]                                           |\n",
            "| 19 |                    nan |                       20 | TBA                        | TBA                          | September 26, 2021                    | TBA                                  | TBA                | TBA                                                |\n",
            "+----+------------------------+--------------------------+----------------------------+------------------------------+---------------------------------------+--------------------------------------+--------------------+----------------------------------------------------+\n"
          ]
        }
      ]
    }
  ]
}