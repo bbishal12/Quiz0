{
  "nbformat": 4,
  "nbformat_minor": 0,
  "metadata": {
    "colab": {
      "name": "Quiz29 Uncertainty.ipynb",
      "provenance": [],
      "collapsed_sections": [],
      "authorship_tag": "ABX9TyOZhcLHkJmImYAwXGfN6I0f",
      "include_colab_link": true
    },
    "kernelspec": {
      "name": "python3",
      "display_name": "Python 3"
    },
    "language_info": {
      "name": "python"
    }
  },
  "cells": [
    {
      "cell_type": "markdown",
      "metadata": {
        "id": "view-in-github",
        "colab_type": "text"
      },
      "source": [
        "<a href=\"https://colab.research.google.com/github/bbishal12/Quiz0/blob/main/Quiz29_Uncertainty.ipynb\" target=\"_parent\"><img src=\"https://colab.research.google.com/assets/colab-badge.svg\" alt=\"Open In Colab\"/></a>"
      ]
    },
    {
      "cell_type": "markdown",
      "source": [
        "#Data Visualization\n",
        "##Bishal Budhathoki\n",
        "##Quiz 29: Uncertainty"
      ],
      "metadata": {
        "id": "CUtlZdso7X3P"
      }
    },
    {
      "cell_type": "markdown",
      "source": [
        "1. Explain the difference between standard error and confidence intervals.\n",
        "\n",
        "2. Use the workout data and graph the average calories by workout type and include the 95% confidence interval."
      ],
      "metadata": {
        "id": "-fRS3-0j7qEB"
      }
    },
    {
      "cell_type": "markdown",
      "source": [
        "1. Standard error of the estimate refers to one standard deviation of the distribution of the parameter of interest, that are you estimating whereas  Confidence intervals are the quantiles of the distribution of the parameter of interest, that you are estimating, at least in a frequentist paradigm.\n",
        "\n"
      ],
      "metadata": {
        "id": "qj_UTIpcIv-n"
      }
    },
    {
      "cell_type": "code",
      "execution_count": null,
      "metadata": {
        "id": "ekJOIi1W7Wkj"
      },
      "outputs": [],
      "source": [
        ""
      ]
    }
  ]
}