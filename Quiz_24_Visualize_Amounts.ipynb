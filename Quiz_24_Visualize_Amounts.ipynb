{
  "nbformat": 4,
  "nbformat_minor": 0,
  "metadata": {
    "colab": {
      "name": "Quiz 24 Visualize Amounts.ipynb",
      "provenance": [],
      "collapsed_sections": [],
      "authorship_tag": "ABX9TyN4acp7nVfTogFN/Iznem2P",
      "include_colab_link": true
    },
    "kernelspec": {
      "name": "python3",
      "display_name": "Python 3"
    },
    "language_info": {
      "name": "python"
    }
  },
  "cells": [
    {
      "cell_type": "markdown",
      "metadata": {
        "id": "view-in-github",
        "colab_type": "text"
      },
      "source": [
        "<a href=\"https://colab.research.google.com/github/bbishal12/Quiz0/blob/main/Quiz_24_Visualize_Amounts.ipynb\" target=\"_parent\"><img src=\"https://colab.research.google.com/assets/colab-badge.svg\" alt=\"Open In Colab\"/></a>"
      ]
    },
    {
      "cell_type": "markdown",
      "source": [
        "#Data Visualization\n",
        "##Bishal Budhathoki\n",
        "##Quiz 24: Visualize Amounts"
      ],
      "metadata": {
        "id": "AhFav_66Fckg"
      }
    },
    {
      "cell_type": "markdown",
      "source": [
        "Using the [Air B&B NYC data](https://raw.githubusercontent.com/nurfnick/Data_Viz/main/AB_NYC_2019.csv) data complete the following tasks.\n",
        "\n",
        "1. Create a bar graph of the maximum 'price' by 'neighbourhood_group'. Include the 'price' in your graph\n",
        "\n",
        "2. Create a multiple bar graph with 'neighbourhood_group' and 'room_type' by looking at the average 'price'."
      ],
      "metadata": {
        "id": "NdXGmdVNGAB5"
      }
    },
    {
      "cell_type": "markdown",
      "source": [
        ""
      ],
      "metadata": {
        "id": "hseQPZCKGLBP"
      }
    },
    {
      "cell_type": "code",
      "execution_count": null,
      "metadata": {
        "id": "xk7LZ-UsFaS7"
      },
      "outputs": [],
      "source": [
        ""
      ]
    }
  ]
}